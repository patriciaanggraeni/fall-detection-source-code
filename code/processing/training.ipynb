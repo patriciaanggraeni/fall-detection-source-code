{
 "cells": [
  {
   "cell_type": "markdown",
   "source": [
    "# Import package"
   ],
   "metadata": {
    "collapsed": false
   },
   "id": "623f51d8f1ed5e2a"
  },
  {
   "cell_type": "code",
   "outputs": [],
   "source": [
    "import keras\n",
    "import os, io\n",
    "import pickle\n",
    "import random\n",
    "import joblib\n",
    "import numpy as np\n",
    "import pandas as pd\n",
    "import tensorflow as tf\n",
    "import matplotlib.pyplot as plt\n",
    "\n",
    "from google.cloud import storage\n",
    "from assets.credential_key import key\n",
    "from tensorflow.keras import Sequential\n",
    "from tensorflow.keras.optimizers import Adam\n",
    "from sklearn.preprocessing import OneHotEncoder\n",
    "from sklearn.preprocessing import StandardScaler, LabelBinarizer\n",
    "from sklearn.model_selection import StratifiedKFold, KFold, train_test_split\n",
    "from tensorflow.keras.layers import Dense, MaxPooling2D, BatchNormalization, Conv2D, Flatten, Activation, Dropout, Input"
   ],
   "metadata": {
    "collapsed": true,
    "ExecuteTime": {
     "end_time": "2024-06-07T01:41:26.570239Z",
     "start_time": "2024-06-07T01:41:26.540525Z"
    }
   },
   "id": "initial_id",
   "execution_count": 176
  },
  {
   "cell_type": "markdown",
   "source": [
    "# Memilih data"
   ],
   "metadata": {
    "collapsed": false
   },
   "id": "8196f0336524c418"
  },
  {
   "cell_type": "code",
   "outputs": [],
   "source": [
    "# memuat kunci crendential\n",
    "key.get_credential_key()\n",
    "client = storage.Client()"
   ],
   "metadata": {
    "collapsed": false,
    "ExecuteTime": {
     "end_time": "2024-06-07T01:02:27.427634Z",
     "start_time": "2024-06-07T01:02:27.329636Z"
    }
   },
   "id": "f9fad0e08434baf8",
   "execution_count": 123
  },
  {
   "cell_type": "code",
   "outputs": [
    {
     "name": "stdout",
     "output_type": "stream",
     "text": [
      "Task 01: 32\n",
      "Task 06: 151\n",
      "Task 20: 159\n",
      "Task 21: 161\n",
      "Task 22: 161\n"
     ]
    }
   ],
   "source": [
    "def list_data_dir(bucket_name):\n",
    "\n",
    "    # Dapatkan bucket\n",
    "    bucket = client.bucket(bucket_name)\n",
    "\n",
    "    # List semua blob (file) dalam bucket\n",
    "    all_data = list(bucket.list_blobs())\n",
    "\n",
    "    # List semua data directory untuk setiap tugas yang diinginkan\n",
    "    task_01 = [blob for blob in all_data if 'T01' in blob.name]\n",
    "    task_06 = [blob for blob in all_data if 'T06' in blob.name]\n",
    "    task_20 = [blob for blob in all_data if 'T20' in blob.name]\n",
    "    task_21 = [blob for blob in all_data if 'T21' in blob.name]\n",
    "    task_22 = [blob for blob in all_data if 'T22' in blob.name]\n",
    "\n",
    "    tasks_amount = (len(task_01), len(task_06), len(task_20), len(task_21), len(task_22))\n",
    "\n",
    "    # Gabungkan semua tugas ke dalam satu daftar direktori\n",
    "    all_task_dir = (task_01, task_06, task_20, task_21, task_22)\n",
    "\n",
    "    return all_task_dir, tasks_amount\n",
    "\n",
    "tasks_dir, task_amount = list_data_dir(\"fall-detection-bucket\")\n",
    "print(f'Task 01: {task_amount[0]}')\n",
    "print(f'Task 06: {task_amount[1]}')\n",
    "print(f'Task 20: {task_amount[2]}')\n",
    "print(f'Task 21: {task_amount[3]}')\n",
    "print(f'Task 22: {task_amount[4]}')"
   ],
   "metadata": {
    "collapsed": false,
    "ExecuteTime": {
     "end_time": "2024-06-07T01:02:47.424506Z",
     "start_time": "2024-06-07T01:02:43.517847Z"
    }
   },
   "id": "e802197f8e58f6ab",
   "execution_count": 125
  },
  {
   "cell_type": "markdown",
   "source": [
    "# Group Data"
   ],
   "metadata": {
    "collapsed": false
   },
   "id": "bd532ed0efdccba2"
  },
  {
   "cell_type": "code",
   "outputs": [],
   "source": [
    "task_01 = tasks_dir[0]\n",
    "task_06 = tasks_dir[1]\n",
    "task_20 = tasks_dir[2]\n",
    "task_21 = tasks_dir[3]\n",
    "task_22 = tasks_dir[4]"
   ],
   "metadata": {
    "collapsed": false,
    "ExecuteTime": {
     "end_time": "2024-06-07T01:02:47.458502Z",
     "start_time": "2024-06-07T01:02:47.432505Z"
    }
   },
   "id": "6a8d51439c02f8b7",
   "execution_count": 126
  },
  {
   "cell_type": "code",
   "outputs": [
    {
     "name": "stdout",
     "output_type": "stream",
     "text": [
      "Average number of rows: 719.9627329192547\n"
     ]
    }
   ],
   "source": [
    "length = []\n",
    "\n",
    "for blob in task_22:\n",
    "    # Unduh konten dari objek Blob\n",
    "    blob_content = blob.download_as_string()\n",
    "\n",
    "    # Baca konten CSV dari objek buffer\n",
    "    data = pd.read_csv(io.BytesIO(blob_content))\n",
    "\n",
    "    # Tambahkan jumlah baris ke dalam daftar length\n",
    "    length.append(data.shape[0])\n",
    "\n",
    "# Hitung rata-rata jumlah baris\n",
    "average_length = np.mean(np.array(length))\n",
    "print(\"Average number of rows:\", average_length)"
   ],
   "metadata": {
    "collapsed": false,
    "ExecuteTime": {
     "end_time": "2024-06-07T01:03:49.114324Z",
     "start_time": "2024-06-07T01:03:02.542890Z"
    }
   },
   "id": "f9bfde084fb8a4d1",
   "execution_count": 127
  },
  {
   "cell_type": "code",
   "outputs": [
    {
     "data": {
      "text/plain": "[<Blob: fall-detection-bucket, sensor_data/SA06/S06T01R01.csv, 1717633208412376>,\n <Blob: fall-detection-bucket, sensor_data/SA07/S07T01R01.csv, 1717633250922810>,\n <Blob: fall-detection-bucket, sensor_data/SA08/S08T01R01.csv, 1717633279439543>,\n <Blob: fall-detection-bucket, sensor_data/SA09/S09T01R01.csv, 1717633401925516>,\n <Blob: fall-detection-bucket, sensor_data/SA10/S10T01R01.csv, 1717633450250931>,\n <Blob: fall-detection-bucket, sensor_data/SA11/S11T01R01.csv, 1717633534619107>,\n <Blob: fall-detection-bucket, sensor_data/SA12/S12T01R01.csv, 1717633622078189>,\n <Blob: fall-detection-bucket, sensor_data/SA13/S13T01R01.csv, 1717633657197665>,\n <Blob: fall-detection-bucket, sensor_data/SA14/S14T01R01.csv, 1717722078662913>,\n <Blob: fall-detection-bucket, sensor_data/SA15/S15T01R01.csv, 1717633688867477>,\n <Blob: fall-detection-bucket, sensor_data/SA16/S16T01R01.csv, 1717634149181872>,\n <Blob: fall-detection-bucket, sensor_data/SA17/S17T01R01.csv, 1717634228309592>,\n <Blob: fall-detection-bucket, sensor_data/SA18/S18T01R01.csv, 1717634262486703>,\n <Blob: fall-detection-bucket, sensor_data/SA19/S19T01R01.csv, 1717634295040271>,\n <Blob: fall-detection-bucket, sensor_data/SA20/S20T01R01.csv, 1717634327220704>,\n <Blob: fall-detection-bucket, sensor_data/SA21/S21T01R01.csv, 1717634371985426>,\n <Blob: fall-detection-bucket, sensor_data/SA22/S22T01R01.csv, 1717634417700662>,\n <Blob: fall-detection-bucket, sensor_data/SA23/S23T01R01.csv, 1717634465788504>,\n <Blob: fall-detection-bucket, sensor_data/SA24/S24T01R01.csv, 1717634526425158>,\n <Blob: fall-detection-bucket, sensor_data/SA25/S25T01R01.csv, 1717634556323350>,\n <Blob: fall-detection-bucket, sensor_data/SA26/S26T01R01.csv, 1717634588245061>,\n <Blob: fall-detection-bucket, sensor_data/SA27/S27T01R01.csv, 1717634638748520>,\n <Blob: fall-detection-bucket, sensor_data/SA28/S28T01R01.csv, 1717634883467179>,\n <Blob: fall-detection-bucket, sensor_data/SA29/S29T01R01.csv, 1717634963263293>,\n <Blob: fall-detection-bucket, sensor_data/SA30/S30T01R01.csv, 1717635071006468>,\n <Blob: fall-detection-bucket, sensor_data/SA31/S31T01R01.csv, 1717635144747911>,\n <Blob: fall-detection-bucket, sensor_data/SA32/S32T01R01.csv, 1717635271391160>,\n <Blob: fall-detection-bucket, sensor_data/SA33/S33T01R01.csv, 1717635309641708>,\n <Blob: fall-detection-bucket, sensor_data/SA35/S35T01R01.csv, 1717635351034085>,\n <Blob: fall-detection-bucket, sensor_data/SA36/S36T01R01.csv, 1717635815381078>,\n <Blob: fall-detection-bucket, sensor_data/SA37/S37T01R01.csv, 1717635929614377>,\n <Blob: fall-detection-bucket, sensor_data/SA38/S38T01R01.csv, 1717635971413399>]"
     },
     "execution_count": 128,
     "metadata": {},
     "output_type": "execute_result"
    }
   ],
   "source": [
    "task_01"
   ],
   "metadata": {
    "collapsed": false,
    "ExecuteTime": {
     "end_time": "2024-06-07T01:03:49.373788Z",
     "start_time": "2024-06-07T01:03:49.120327Z"
    }
   },
   "id": "c4d3dc306b7edc86",
   "execution_count": 128
  },
  {
   "cell_type": "code",
   "outputs": [],
   "source": [
    "def group_tasks(task_blobs, task_name):\n",
    "    all_data = []\n",
    "    for blob in task_blobs:\n",
    "        # Unduh konten dari objek Blob sebagai string\n",
    "        blob_content = blob.download_as_string()\n",
    "\n",
    "        # Baca konten CSV dari objek buffer\n",
    "        df = pd.read_csv(io.BytesIO(blob_content))\n",
    "\n",
    "        # Buang kolom yang tidak diperlukan\n",
    "        drop_cols = ['TimeStamp(s)', 'FrameCounter', 'EulerX', 'EulerY', 'EulerZ']\n",
    "        df.drop(columns=drop_cols, inplace=True)\n",
    "\n",
    "        # Ubah DataFrame menjadi numpy array dan tambahkan ke dalam list all_data\n",
    "        all_data.append(df.to_numpy())\n",
    "\n",
    "    # Buat folder alldata jika belum ada\n",
    "    if not os.path.exists('../../assets/pkl'):\n",
    "        os.makedirs('../../assets/pkl')\n",
    "\n",
    "    # Simpan list all_data ke dalam file .pkl\n",
    "    joblib.dump(all_data, f'../../assets/pkl/{task_name}.pkl')\n",
    "\n",
    "    print('Done!')"
   ],
   "metadata": {
    "collapsed": false,
    "ExecuteTime": {
     "end_time": "2024-06-07T01:03:49.409792Z",
     "start_time": "2024-06-07T01:03:49.380785Z"
    }
   },
   "id": "a29bbc4eaded36dd",
   "execution_count": 129
  },
  {
   "cell_type": "code",
   "outputs": [
    {
     "name": "stdout",
     "output_type": "stream",
     "text": [
      "Done!\n",
      "Done!\n",
      "Done!\n",
      "Done!\n",
      "Done!\n"
     ]
    }
   ],
   "source": [
    "group_tasks(task_01, 'task_01')\n",
    "group_tasks(task_06, 'task_06')\n",
    "group_tasks(task_20, 'task_20')\n",
    "group_tasks(task_21, 'task_21')\n",
    "group_tasks(task_22, 'task_22')"
   ],
   "metadata": {
    "collapsed": false,
    "ExecuteTime": {
     "end_time": "2024-06-07T01:06:37.527577Z",
     "start_time": "2024-06-07T01:03:49.447789Z"
    }
   },
   "id": "2a4a7668fddc4d1c",
   "execution_count": 130
  },
  {
   "cell_type": "code",
   "outputs": [
    {
     "name": "stdout",
     "output_type": "stream",
     "text": [
      "(470, 6)\n",
      "(448, 6)\n",
      "(462, 6)\n",
      "(467, 6)\n",
      "(517, 6)\n",
      "(582, 6)\n",
      "(563, 6)\n",
      "(672, 6)\n",
      "(558, 6)\n",
      "(523, 6)\n",
      "(507, 6)\n",
      "(506, 6)\n",
      "(531, 6)\n",
      "(505, 6)\n",
      "(580, 6)\n",
      "(575, 6)\n",
      "(550, 6)\n",
      "(559, 6)\n",
      "(585, 6)\n",
      "(552, 6)\n",
      "(810, 6)\n",
      "(688, 6)\n",
      "(699, 6)\n",
      "(722, 6)\n",
      "(647, 6)\n",
      "(748, 6)\n",
      "(616, 6)\n",
      "(606, 6)\n",
      "(656, 6)\n",
      "(629, 6)\n",
      "(751, 6)\n",
      "(591, 6)\n",
      "(591, 6)\n",
      "(605, 6)\n",
      "(594, 6)\n",
      "(676, 6)\n",
      "(702, 6)\n",
      "(758, 6)\n",
      "(695, 6)\n",
      "(750, 6)\n",
      "(595, 6)\n",
      "(618, 6)\n",
      "(650, 6)\n",
      "(605, 6)\n",
      "(645, 6)\n",
      "(659, 6)\n",
      "(555, 6)\n",
      "(723, 6)\n",
      "(712, 6)\n",
      "(710, 6)\n",
      "(589, 6)\n",
      "(660, 6)\n",
      "(664, 6)\n",
      "(675, 6)\n",
      "(648, 6)\n",
      "(685, 6)\n",
      "(914, 6)\n",
      "(920, 6)\n",
      "(959, 6)\n",
      "(910, 6)\n",
      "(885, 6)\n",
      "(837, 6)\n",
      "(874, 6)\n",
      "(850, 6)\n",
      "(835, 6)\n",
      "(853, 6)\n",
      "(786, 6)\n",
      "(790, 6)\n",
      "(835, 6)\n",
      "(621, 6)\n",
      "(824, 6)\n",
      "(775, 6)\n",
      "(707, 6)\n",
      "(663, 6)\n",
      "(709, 6)\n",
      "(741, 6)\n",
      "(743, 6)\n",
      "(687, 6)\n",
      "(725, 6)\n",
      "(715, 6)\n",
      "(708, 6)\n",
      "(714, 6)\n",
      "(671, 6)\n",
      "(741, 6)\n",
      "(762, 6)\n",
      "(764, 6)\n",
      "(715, 6)\n",
      "(674, 6)\n",
      "(625, 6)\n",
      "(704, 6)\n",
      "(663, 6)\n",
      "(675, 6)\n",
      "(735, 6)\n",
      "(812, 6)\n",
      "(870, 6)\n",
      "(872, 6)\n",
      "(847, 6)\n",
      "(758, 6)\n",
      "(874, 6)\n",
      "(830, 6)\n",
      "(746, 6)\n",
      "(716, 6)\n",
      "(786, 6)\n",
      "(873, 6)\n",
      "(802, 6)\n",
      "(782, 6)\n",
      "(766, 6)\n",
      "(877, 6)\n",
      "(988, 6)\n",
      "(961, 6)\n",
      "(872, 6)\n",
      "(810, 6)\n",
      "(772, 6)\n",
      "(799, 6)\n",
      "(794, 6)\n",
      "(785, 6)\n",
      "(715, 6)\n",
      "(746, 6)\n",
      "(694, 6)\n",
      "(747, 6)\n",
      "(718, 6)\n",
      "(703, 6)\n",
      "(720, 6)\n",
      "(711, 6)\n",
      "(718, 6)\n",
      "(688, 6)\n",
      "(695, 6)\n",
      "(688, 6)\n",
      "(651, 6)\n",
      "(687, 6)\n",
      "(683, 6)\n",
      "(725, 6)\n",
      "(680, 6)\n",
      "(709, 6)\n",
      "(735, 6)\n",
      "(700, 6)\n",
      "(625, 6)\n",
      "(651, 6)\n",
      "(648, 6)\n",
      "(637, 6)\n",
      "(649, 6)\n",
      "(625, 6)\n",
      "(668, 6)\n",
      "(670, 6)\n",
      "(650, 6)\n",
      "(683, 6)\n",
      "(666, 6)\n",
      "(640, 6)\n",
      "(642, 6)\n",
      "(677, 6)\n",
      "(623, 6)\n",
      "(644, 6)\n",
      "(621, 6)\n",
      "(689, 6)\n",
      "(663, 6)\n",
      "(655, 6)\n",
      "(661, 6)\n",
      "(699, 6)\n",
      "(711, 6)\n",
      "(643, 6)\n",
      "(705, 6)\n"
     ]
    }
   ],
   "source": [
    "def check_shape(bin):\n",
    "    data = joblib.load(bin)\n",
    "    for i in data:\n",
    "        print(i.shape)\n",
    "\n",
    "check_shape('../../assets/pkl/task_21.pkl')"
   ],
   "metadata": {
    "collapsed": false,
    "ExecuteTime": {
     "end_time": "2024-06-07T01:06:41.212538Z",
     "start_time": "2024-06-07T01:06:41.070742Z"
    }
   },
   "id": "7f5f8643b9681447",
   "execution_count": 131
  },
  {
   "cell_type": "code",
   "outputs": [
    {
     "name": "stdout",
     "output_type": "stream",
     "text": [
      "Data ke-8\n"
     ]
    },
    {
     "data": {
      "text/plain": "[<matplotlib.lines.Line2D at 0x1602b3b1b50>,\n <matplotlib.lines.Line2D at 0x1602b3b06b0>,\n <matplotlib.lines.Line2D at 0x1602b3b10a0>,\n <matplotlib.lines.Line2D at 0x1602b239100>,\n <matplotlib.lines.Line2D at 0x1602b23bf20>,\n <matplotlib.lines.Line2D at 0x1602b239760>]"
     },
     "execution_count": 132,
     "metadata": {},
     "output_type": "execute_result"
    },
    {
     "data": {
      "text/plain": "<Figure size 640x480 with 1 Axes>",
      "image/png": "[encoded data removed]"
     },
     "metadata": {},
     "output_type": "display_data"
    }
   ],
   "source": [
    "r = random.randint(0, 160)\n",
    "data = joblib.load('../../assets/pkl/task_20.pkl')\n",
    "\n",
    "print(f'Data ke-{r}')\n",
    "plt.plot(data[r])"
   ],
   "metadata": {
    "collapsed": false,
    "ExecuteTime": {
     "end_time": "2024-06-07T01:06:45.821137Z",
     "start_time": "2024-06-07T01:06:44.413596Z"
    }
   },
   "id": "e88539be49083b28",
   "execution_count": 132
  },
  {
   "cell_type": "code",
   "outputs": [],
   "source": [
    "def exclude_data(data, length):\n",
    "    ldata = joblib.load(data)\n",
    "    exc = [i for i in ldata if i.shape[0] >= length]\n",
    "\n",
    "    return exc"
   ],
   "metadata": {
    "collapsed": false,
    "ExecuteTime": {
     "end_time": "2024-06-07T01:06:50.219083Z",
     "start_time": "2024-06-07T01:06:50.206551Z"
    }
   },
   "id": "36e638adbfc80b50",
   "execution_count": 133
  },
  {
   "cell_type": "code",
   "outputs": [
    {
     "data": {
      "text/plain": "['../../assets/pkl/utask22.pkl']"
     },
     "execution_count": 134,
     "metadata": {},
     "output_type": "execute_result"
    }
   ],
   "source": [
    "utask_01 = exclude_data('../../assets/pkl/task_01.pkl', 600)\n",
    "utask_06 = exclude_data('../../assets/pkl/task_06.pkl', 600)\n",
    "utask_20 = exclude_data('../../assets/pkl/task_20.pkl', 600)\n",
    "utask_21 = exclude_data('../../assets/pkl/task_21.pkl', 600)\n",
    "utask_22 = exclude_data('../../assets/pkl/task_22.pkl', 600)\n",
    "\n",
    "joblib.dump(utask_01, '../../assets/pkl/utask01.pkl')\n",
    "joblib.dump(utask_06, '../../assets/pkl/utask06.pkl')\n",
    "joblib.dump(utask_20, '../../assets/pkl/utask20.pkl')\n",
    "joblib.dump(utask_21, '../../assets/pkl/utask21.pkl')\n",
    "joblib.dump(utask_22, '../../assets/pkl/utask22.pkl')"
   ],
   "metadata": {
    "collapsed": false,
    "ExecuteTime": {
     "end_time": "2024-06-07T01:06:52.992688Z",
     "start_time": "2024-06-07T01:06:51.701848Z"
    }
   },
   "id": "cfdc91e3e6626a87",
   "execution_count": 134
  },
  {
   "cell_type": "code",
   "outputs": [],
   "source": [
    "def cut_off(data, start, end, fs=100):\n",
    "    if start == 0:\n",
    "        start = 0\n",
    "    else:\n",
    "        start = (start * fs)\n",
    "    end = (end * fs)\n",
    "\n",
    "    return data[start:end]\n",
    "\n",
    "def loop_cut_off(data, start, end, fs=100):\n",
    "    new_data = []\n",
    "    for i in data:\n",
    "        new_data.append(cut_off(i, start, end, fs))\n",
    "    return new_data"
   ],
   "metadata": {
    "collapsed": false,
    "ExecuteTime": {
     "end_time": "2024-06-07T01:07:02.583592Z",
     "start_time": "2024-06-07T01:07:02.567565Z"
    }
   },
   "id": "8ac05d9d54b7d54e",
   "execution_count": 135
  },
  {
   "cell_type": "code",
   "outputs": [],
   "source": [
    "task_01_cut = loop_cut_off(joblib.load('../../assets/pkl/utask01.pkl'), 0, 6)\n",
    "task_06_cut = loop_cut_off(joblib.load('../../assets/pkl/utask06.pkl'), 2, 8)\n",
    "task_20_cut = loop_cut_off(joblib.load('../../assets/pkl/utask20.pkl'), 0, 6)\n",
    "task_21_cut = loop_cut_off(joblib.load('../../assets/pkl/utask21.pkl'), 0, 6)\n",
    "task_22_cut = loop_cut_off(joblib.load('../../assets/pkl/utask22.pkl'), 0, 6)"
   ],
   "metadata": {
    "collapsed": false,
    "ExecuteTime": {
     "end_time": "2024-06-07T01:07:06.172421Z",
     "start_time": "2024-06-07T01:07:04.620715Z"
    }
   },
   "id": "95774e4285c16170",
   "execution_count": 136
  },
  {
   "cell_type": "code",
   "outputs": [
    {
     "data": {
      "text/plain": "600.0"
     },
     "execution_count": 137,
     "metadata": {},
     "output_type": "execute_result"
    }
   ],
   "source": [
    "np.mean([i.shape[0] for i in task_06_cut])"
   ],
   "metadata": {
    "collapsed": false,
    "ExecuteTime": {
     "end_time": "2024-06-07T01:07:08.033144Z",
     "start_time": "2024-06-07T01:07:08.017439Z"
    }
   },
   "id": "a16281b42f1dc01d",
   "execution_count": 137
  },
  {
   "cell_type": "code",
   "outputs": [
    {
     "data": {
      "text/plain": "[<matplotlib.lines.Line2D at 0x1601e2b49e0>,\n <matplotlib.lines.Line2D at 0x1602b1188f0>,\n <matplotlib.lines.Line2D at 0x1602b365580>,\n <matplotlib.lines.Line2D at 0x1602b1ba7b0>,\n <matplotlib.lines.Line2D at 0x1602b1b89e0>,\n <matplotlib.lines.Line2D at 0x1602b1ba330>]"
     },
     "execution_count": 138,
     "metadata": {},
     "output_type": "execute_result"
    },
    {
     "data": {
      "text/plain": "<Figure size 640x480 with 1 Axes>",
      "image/png": "[encoded data removed]"
     },
     "metadata": {},
     "output_type": "display_data"
    }
   ],
   "source": [
    "r = random.randint(0,100)\n",
    "plt.plot(task_22_cut[r])"
   ],
   "metadata": {
    "collapsed": false,
    "ExecuteTime": {
     "end_time": "2024-06-07T01:07:10.918978Z",
     "start_time": "2024-06-07T01:07:10.395968Z"
    }
   },
   "id": "33587147b4e9599c",
   "execution_count": 138
  },
  {
   "cell_type": "code",
   "outputs": [
    {
     "data": {
      "text/plain": "['../../assets/pkl/task_22_cut.pkl']"
     },
     "execution_count": 139,
     "metadata": {},
     "output_type": "execute_result"
    }
   ],
   "source": [
    "joblib.dump(np.array(task_01_cut), '../../assets/pkl/task_01_cut.pkl')\n",
    "joblib.dump(np.array(task_06_cut), '../../assets/pkl/task_06_cut.pkl')\n",
    "joblib.dump(np.array(task_20_cut), '../../assets/pkl/task_20_cut.pkl')\n",
    "joblib.dump(np.array(task_21_cut), '../../assets/pkl/task_21_cut.pkl')\n",
    "joblib.dump(np.array(task_22_cut), '../../assets/pkl/task_22_cut.pkl')"
   ],
   "metadata": {
    "collapsed": false,
    "ExecuteTime": {
     "end_time": "2024-06-07T01:07:16.647871Z",
     "start_time": "2024-06-07T01:07:16.585391Z"
    }
   },
   "id": "ce1bbf149ce50ce8",
   "execution_count": 139
  },
  {
   "cell_type": "code",
   "outputs": [
    {
     "name": "stdout",
     "output_type": "stream",
     "text": [
      "Jumlah Data Task 01: (32, 600, 6)\n",
      "Jumlah Data Task 06: (151, 600, 6)\n",
      "Jumlah Data Task 20: (128, 600, 6)\n",
      "Jumlah Data Task 21: (136, 600, 6)\n",
      "Jumlah Data Task 22: (137, 600, 6)\n"
     ]
    }
   ],
   "source": [
    "clean_t01 = joblib.load('../../assets/pkl/task_01_cut.pkl')\n",
    "clean_t06 = joblib.load('../../assets/pkl/task_06_cut.pkl')\n",
    "clean_t20 = joblib.load('../../assets/pkl/task_20_cut.pkl')\n",
    "clean_t21 = joblib.load('../../assets/pkl/task_21_cut.pkl')\n",
    "clean_t22 = joblib.load('../../assets/pkl/task_22_cut.pkl')\n",
    "\n",
    "print(f'Jumlah Data Task 01: {clean_t01.shape}')\n",
    "print(f'Jumlah Data Task 06: {clean_t06.shape}')\n",
    "print(f'Jumlah Data Task 20: {clean_t20.shape}')\n",
    "print(f'Jumlah Data Task 21: {clean_t21.shape}')\n",
    "print(f'Jumlah Data Task 22: {clean_t22.shape}')"
   ],
   "metadata": {
    "collapsed": false,
    "ExecuteTime": {
     "end_time": "2024-06-07T01:07:29.922994Z",
     "start_time": "2024-06-07T01:07:29.625742Z"
    }
   },
   "id": "abdb33ed2aa904e1",
   "execution_count": 140
  },
  {
   "cell_type": "code",
   "outputs": [
    {
     "data": {
      "text/plain": "(584, 600, 6)"
     },
     "execution_count": 141,
     "metadata": {},
     "output_type": "execute_result"
    }
   ],
   "source": [
    "all_clean_data = np.vstack([clean_t01, clean_t06, clean_t20, clean_t21, clean_t22])\n",
    "all_clean_data.shape"
   ],
   "metadata": {
    "collapsed": false,
    "ExecuteTime": {
     "end_time": "2024-06-07T01:07:59.380218Z",
     "start_time": "2024-06-07T01:07:59.344598Z"
    }
   },
   "id": "e78f6868cc1770af",
   "execution_count": 141
  },
  {
   "cell_type": "code",
   "outputs": [
    {
     "data": {
      "text/plain": "['../../assets/pkl/dataset_v01.pkl']"
     },
     "execution_count": 142,
     "metadata": {},
     "output_type": "execute_result"
    }
   ],
   "source": [
    "joblib.dump(all_clean_data, '../../assets/pkl/dataset_v01.pkl')"
   ],
   "metadata": {
    "collapsed": false,
    "ExecuteTime": {
     "end_time": "2024-06-07T01:08:02.190942Z",
     "start_time": "2024-06-07T01:08:02.153542Z"
    }
   },
   "id": "5853619735c625a5",
   "execution_count": 142
  },
  {
   "cell_type": "code",
   "outputs": [
    {
     "data": {
      "text/plain": "(584,)"
     },
     "execution_count": 143,
     "metadata": {},
     "output_type": "execute_result"
    }
   ],
   "source": [
    "labels_t01 = [1 for i in range(32)]\n",
    "labels_t06 = [6 for i in range(151)]\n",
    "labels_t20 = [20 for i in range(128)]\n",
    "labels_t21 = [21 for i in range(136)]\n",
    "labels_t22 = [22 for i in range(137)]\n",
    "\n",
    "labels = labels_t01 + labels_t06 + labels_t20 + labels_t21 + labels_t22\n",
    "labels = np.array(labels)\n",
    "labels.shape"
   ],
   "metadata": {
    "collapsed": false,
    "ExecuteTime": {
     "end_time": "2024-06-07T01:08:04.478325Z",
     "start_time": "2024-06-07T01:08:04.455255Z"
    }
   },
   "id": "1eddad848b4ca4f9",
   "execution_count": 143
  },
  {
   "cell_type": "code",
   "outputs": [
    {
     "data": {
      "text/plain": "['../../assets/pkl/labels_v01.pkl']"
     },
     "execution_count": 144,
     "metadata": {},
     "output_type": "execute_result"
    }
   ],
   "source": [
    "joblib.dump(labels, '../../assets/pkl/labels_v01.pkl')"
   ],
   "metadata": {
    "collapsed": false,
    "ExecuteTime": {
     "end_time": "2024-06-07T01:08:06.684799Z",
     "start_time": "2024-06-07T01:08:06.669796Z"
    }
   },
   "id": "b2041a547361f952",
   "execution_count": 144
  },
  {
   "cell_type": "markdown",
   "source": [
    "# Training Data"
   ],
   "metadata": {
    "collapsed": false
   },
   "id": "ed74f03d639e3d24"
  },
  {
   "cell_type": "code",
   "outputs": [],
   "source": [
    "# Names of your bucket and files\n",
    "bucket_name = \"fall-detection-bucket\"\n",
    "dataset_filename = 'pkl/dataset_v01.pkl'\n",
    "labels_filename = 'pkl/labels_v01.pkl'"
   ],
   "metadata": {
    "collapsed": false,
    "ExecuteTime": {
     "end_time": "2024-06-07T01:09:14.678408Z",
     "start_time": "2024-06-07T01:09:14.668420Z"
    }
   },
   "id": "6349ce9846d71d17",
   "execution_count": 145
  },
  {
   "cell_type": "code",
   "outputs": [
    {
     "name": "stdout",
     "output_type": "stream",
     "text": [
      "Read 16819441 bytes from pkl/dataset_v01.pkl.\n",
      "Error loading dataset: invalid load key, '\\x0d'.\n",
      "\n",
      "Read 2561 bytes from pkl/labels_v01.pkl.\n",
      "Error loading labels: invalid load key, '\\x02'. \n",
      "\n",
      "Data loaded successfully.\n"
     ]
    }
   ],
   "source": [
    "# Function to read a file from GCS into memory\n",
    "def read_blob_to_memory(bucket_name, source_blob_name):\n",
    "    bucket = client.bucket(bucket_name)\n",
    "    blob = bucket.blob(source_blob_name)\n",
    "    data = blob.download_as_bytes()\n",
    "    print(f\"Read {len(data)} bytes from {source_blob_name}.\")\n",
    "    return data\n",
    "\n",
    "# Load dataset from GCS\n",
    "try:\n",
    "    dataset_bytes = read_blob_to_memory(bucket_name, dataset_filename)\n",
    "    with io.BytesIO(dataset_bytes) as f:\n",
    "        X = pickle.load(f, fix_imports=True, encoding='bytes')\n",
    "except (pickle.UnpicklingError, EOFError, FileNotFoundError) as e:\n",
    "    print(f\"Error loading dataset: {e}\\n\")\n",
    "    X = np.random.rand(100, 64, 64, 3)  # Example dataset in case of error\n",
    "\n",
    "# Load labels from GCS\n",
    "try:\n",
    "    labels_bytes = read_blob_to_memory(bucket_name, labels_filename)\n",
    "    with io.BytesIO(labels_bytes) as f:\n",
    "        y = pickle.load(f, fix_imports=True, encoding='bytes')\n",
    "except (pickle.UnpicklingError, EOFError, FileNotFoundError) as e:\n",
    "    print(f\"Error loading labels: {e} \\n\")\n",
    "    y = np.random.randint(0, 10, 100)  # Example labels in case of error\n",
    "\n",
    "# Ensure they are numpy arrays\n",
    "x = np.array(X)\n",
    "y = np.array(y)\n",
    "\n",
    "print(\"Data loaded successfully.\")"
   ],
   "metadata": {
    "collapsed": false,
    "ExecuteTime": {
     "end_time": "2024-06-07T01:09:22.122023Z",
     "start_time": "2024-06-07T01:09:19.516872Z"
    }
   },
   "id": "682e69f2d66eba51",
   "execution_count": 146
  },
  {
   "cell_type": "code",
   "outputs": [
    {
     "name": "stdout",
     "output_type": "stream",
     "text": [
      "(584, 600, 6)\n",
      "(584,)\n"
     ]
    }
   ],
   "source": [
    "dataset = joblib.load('../../assets/pkl/dataset_v01.pkl')\n",
    "labels = joblib.load('../../assets/pkl/labels_v01.pkl')\n",
    "\n",
    "print(dataset.shape)\n",
    "print(labels.shape)"
   ],
   "metadata": {
    "collapsed": false,
    "ExecuteTime": {
     "end_time": "2024-06-07T01:09:23.709447Z",
     "start_time": "2024-06-07T01:09:23.655829Z"
    }
   },
   "id": "eacc6b70892ec66",
   "execution_count": 147
  },
  {
   "cell_type": "code",
   "outputs": [
    {
     "data": {
      "text/plain": "(584, 6, 600)"
     },
     "execution_count": 148,
     "metadata": {},
     "output_type": "execute_result"
    }
   ],
   "source": [
    "dataset = np.swapaxes(dataset, 1, 2)\n",
    "dataset.shape"
   ],
   "metadata": {
    "collapsed": false,
    "ExecuteTime": {
     "end_time": "2024-06-07T01:09:27.917804Z",
     "start_time": "2024-06-07T01:09:27.902813Z"
    }
   },
   "id": "48eca0968f6172b3",
   "execution_count": 148
  },
  {
   "cell_type": "code",
   "outputs": [
    {
     "data": {
      "text/plain": "array([[-5.3000000e-02, -5.4000000e-02, -5.6000000e-02, ...,\n        -5.3000000e-02, -5.3000000e-02, -5.2000000e-02],\n       [-1.0040000e+00, -1.0070000e+00, -1.0090000e+00, ...,\n        -1.0080000e+00, -1.0090000e+00, -1.0100000e+00],\n       [ 0.0000000e+00,  0.0000000e+00, -4.0000000e-03, ...,\n        -2.0000000e-03, -2.0000000e-03, -7.0000000e-03],\n       [-5.7295800e-02, -5.7295800e-02, -4.5836640e-01, ...,\n        -1.4896908e+00, -1.5469866e+00, -1.7188740e+00],\n       [ 4.0107060e-01,  2.2918320e-01,  2.8647900e-01, ...,\n         2.2345362e+00,  1.9480572e+00,  1.7188740e+00],\n       [ 3.4377480e-01,  2.2918320e-01,  1.7188740e-01, ...,\n         1.1459160e-01,  5.7295800e-02,  0.0000000e+00]])"
     },
     "execution_count": 149,
     "metadata": {},
     "output_type": "execute_result"
    }
   ],
   "source": [
    "dataset[0]"
   ],
   "metadata": {
    "collapsed": false,
    "ExecuteTime": {
     "end_time": "2024-06-07T01:09:30.243953Z",
     "start_time": "2024-06-07T01:09:30.223793Z"
    }
   },
   "id": "d1a39195ff1e3901",
   "execution_count": 149
  },
  {
   "cell_type": "code",
   "outputs": [
    {
     "data": {
      "text/plain": "[<matplotlib.lines.Line2D at 0x1602b087260>,\n <matplotlib.lines.Line2D at 0x1602b3df470>,\n <matplotlib.lines.Line2D at 0x1602b0871a0>,\n <matplotlib.lines.Line2D at 0x1602b085bb0>,\n <matplotlib.lines.Line2D at 0x1602b086900>,\n <matplotlib.lines.Line2D at 0x1602b1b9c40>]"
     },
     "execution_count": 150,
     "metadata": {},
     "output_type": "execute_result"
    },
    {
     "data": {
      "text/plain": "<Figure size 640x480 with 1 Axes>",
      "image/png": "[encoded data removed]"
     },
     "metadata": {},
     "output_type": "display_data"
    }
   ],
   "source": [
    "plt.plot(dataset[0].transpose())"
   ],
   "metadata": {
    "collapsed": false,
    "ExecuteTime": {
     "end_time": "2024-06-07T01:09:36.696374Z",
     "start_time": "2024-06-07T01:09:36.148345Z"
    }
   },
   "id": "a86387cd2a355e9c",
   "execution_count": 150
  },
  {
   "cell_type": "code",
   "outputs": [],
   "source": [
    "X = X / 255.0\n",
    "\n",
    "lb = LabelBinarizer()\n",
    "y = lb.fit_transform(y)\n",
    "\n",
    "X_train, X_test, y_train, y_test = train_test_split(X, y, test_size=0.2, random_state=42)"
   ],
   "metadata": {
    "collapsed": false,
    "ExecuteTime": {
     "end_time": "2024-06-07T01:21:34.075048Z",
     "start_time": "2024-06-07T01:21:33.971929Z"
    }
   },
   "id": "6f51de4149f36783",
   "execution_count": 163
  },
  {
   "cell_type": "code",
   "outputs": [
    {
     "data": {
      "text/plain": "\u001B[1mModel: \"sequential_27\"\u001B[0m\n",
      "text/html": "<pre style=\"white-space:pre;overflow-x:auto;line-height:normal;font-family:Menlo,'DejaVu Sans Mono',consolas,'Courier New',monospace\"><span style=\"font-weight: bold\">Model: \"sequential_27\"</span>\n</pre>\n"
     },
     "metadata": {},
     "output_type": "display_data"
    },
    {
     "data": {
      "text/plain": "┏━━━━━━━━━━━━━━━━━━━━━━━━━━━━━━━━━┳━━━━━━━━━━━━━━━━━━━━━━━━┳━━━━━━━━━━━━━━━┓\n┃\u001B[1m \u001B[0m\u001B[1mLayer (type)                   \u001B[0m\u001B[1m \u001B[0m┃\u001B[1m \u001B[0m\u001B[1mOutput Shape          \u001B[0m\u001B[1m \u001B[0m┃\u001B[1m \u001B[0m\u001B[1m      Param #\u001B[0m\u001B[1m \u001B[0m┃\n┡━━━━━━━━━━━━━━━━━━━━━━━━━━━━━━━━━╇━━━━━━━━━━━━━━━━━━━━━━━━╇━━━━━━━━━━━━━━━┩\n│ conv2d_60 (\u001B[38;5;33mConv2D\u001B[0m)              │ (\u001B[38;5;45mNone\u001B[0m, \u001B[38;5;34m62\u001B[0m, \u001B[38;5;34m62\u001B[0m, \u001B[38;5;34m32\u001B[0m)     │           \u001B[38;5;34m896\u001B[0m │\n├─────────────────────────────────┼────────────────────────┼───────────────┤\n│ max_pooling2d_60 (\u001B[38;5;33mMaxPooling2D\u001B[0m) │ (\u001B[38;5;45mNone\u001B[0m, \u001B[38;5;34m31\u001B[0m, \u001B[38;5;34m31\u001B[0m, \u001B[38;5;34m32\u001B[0m)     │             \u001B[38;5;34m0\u001B[0m │\n├─────────────────────────────────┼────────────────────────┼───────────────┤\n│ conv2d_61 (\u001B[38;5;33mConv2D\u001B[0m)              │ (\u001B[38;5;45mNone\u001B[0m, \u001B[38;5;34m29\u001B[0m, \u001B[38;5;34m29\u001B[0m, \u001B[38;5;34m64\u001B[0m)     │        \u001B[38;5;34m18,496\u001B[0m │\n├─────────────────────────────────┼────────────────────────┼───────────────┤\n│ max_pooling2d_61 (\u001B[38;5;33mMaxPooling2D\u001B[0m) │ (\u001B[38;5;45mNone\u001B[0m, \u001B[38;5;34m14\u001B[0m, \u001B[38;5;34m14\u001B[0m, \u001B[38;5;34m64\u001B[0m)     │             \u001B[38;5;34m0\u001B[0m │\n├─────────────────────────────────┼────────────────────────┼───────────────┤\n│ conv2d_62 (\u001B[38;5;33mConv2D\u001B[0m)              │ (\u001B[38;5;45mNone\u001B[0m, \u001B[38;5;34m12\u001B[0m, \u001B[38;5;34m12\u001B[0m, \u001B[38;5;34m128\u001B[0m)    │        \u001B[38;5;34m73,856\u001B[0m │\n├─────────────────────────────────┼────────────────────────┼───────────────┤\n│ max_pooling2d_62 (\u001B[38;5;33mMaxPooling2D\u001B[0m) │ (\u001B[38;5;45mNone\u001B[0m, \u001B[38;5;34m6\u001B[0m, \u001B[38;5;34m6\u001B[0m, \u001B[38;5;34m128\u001B[0m)      │             \u001B[38;5;34m0\u001B[0m │\n├─────────────────────────────────┼────────────────────────┼───────────────┤\n│ flatten_27 (\u001B[38;5;33mFlatten\u001B[0m)            │ (\u001B[38;5;45mNone\u001B[0m, \u001B[38;5;34m4608\u001B[0m)           │             \u001B[38;5;34m0\u001B[0m │\n├─────────────────────────────────┼────────────────────────┼───────────────┤\n│ dense_96 (\u001B[38;5;33mDense\u001B[0m)                │ (\u001B[38;5;45mNone\u001B[0m, \u001B[38;5;34m128\u001B[0m)            │       \u001B[38;5;34m589,952\u001B[0m │\n├─────────────────────────────────┼────────────────────────┼───────────────┤\n│ dropout_6 (\u001B[38;5;33mDropout\u001B[0m)             │ (\u001B[38;5;45mNone\u001B[0m, \u001B[38;5;34m128\u001B[0m)            │             \u001B[38;5;34m0\u001B[0m │\n├─────────────────────────────────┼────────────────────────┼───────────────┤\n│ dense_97 (\u001B[38;5;33mDense\u001B[0m)                │ (\u001B[38;5;45mNone\u001B[0m, \u001B[38;5;34m10\u001B[0m)             │         \u001B[38;5;34m1,290\u001B[0m │\n└─────────────────────────────────┴────────────────────────┴───────────────┘\n",
      "text/html": "<pre style=\"white-space:pre;overflow-x:auto;line-height:normal;font-family:Menlo,'DejaVu Sans Mono',consolas,'Courier New',monospace\">┏━━━━━━━━━━━━━━━━━━━━━━━━━━━━━━━━━┳━━━━━━━━━━━━━━━━━━━━━━━━┳━━━━━━━━━━━━━━━┓\n┃<span style=\"font-weight: bold\"> Layer (type)                    </span>┃<span style=\"font-weight: bold\"> Output Shape           </span>┃<span style=\"font-weight: bold\">       Param # </span>┃\n┡━━━━━━━━━━━━━━━━━━━━━━━━━━━━━━━━━╇━━━━━━━━━━━━━━━━━━━━━━━━╇━━━━━━━━━━━━━━━┩\n│ conv2d_60 (<span style=\"color: #0087ff; text-decoration-color: #0087ff\">Conv2D</span>)              │ (<span style=\"color: #00d7ff; text-decoration-color: #00d7ff\">None</span>, <span style=\"color: #00af00; text-decoration-color: #00af00\">62</span>, <span style=\"color: #00af00; text-decoration-color: #00af00\">62</span>, <span style=\"color: #00af00; text-decoration-color: #00af00\">32</span>)     │           <span style=\"color: #00af00; text-decoration-color: #00af00\">896</span> │\n├─────────────────────────────────┼────────────────────────┼───────────────┤\n│ max_pooling2d_60 (<span style=\"color: #0087ff; text-decoration-color: #0087ff\">MaxPooling2D</span>) │ (<span style=\"color: #00d7ff; text-decoration-color: #00d7ff\">None</span>, <span style=\"color: #00af00; text-decoration-color: #00af00\">31</span>, <span style=\"color: #00af00; text-decoration-color: #00af00\">31</span>, <span style=\"color: #00af00; text-decoration-color: #00af00\">32</span>)     │             <span style=\"color: #00af00; text-decoration-color: #00af00\">0</span> │\n├─────────────────────────────────┼────────────────────────┼───────────────┤\n│ conv2d_61 (<span style=\"color: #0087ff; text-decoration-color: #0087ff\">Conv2D</span>)              │ (<span style=\"color: #00d7ff; text-decoration-color: #00d7ff\">None</span>, <span style=\"color: #00af00; text-decoration-color: #00af00\">29</span>, <span style=\"color: #00af00; text-decoration-color: #00af00\">29</span>, <span style=\"color: #00af00; text-decoration-color: #00af00\">64</span>)     │        <span style=\"color: #00af00; text-decoration-color: #00af00\">18,496</span> │\n├─────────────────────────────────┼────────────────────────┼───────────────┤\n│ max_pooling2d_61 (<span style=\"color: #0087ff; text-decoration-color: #0087ff\">MaxPooling2D</span>) │ (<span style=\"color: #00d7ff; text-decoration-color: #00d7ff\">None</span>, <span style=\"color: #00af00; text-decoration-color: #00af00\">14</span>, <span style=\"color: #00af00; text-decoration-color: #00af00\">14</span>, <span style=\"color: #00af00; text-decoration-color: #00af00\">64</span>)     │             <span style=\"color: #00af00; text-decoration-color: #00af00\">0</span> │\n├─────────────────────────────────┼────────────────────────┼───────────────┤\n│ conv2d_62 (<span style=\"color: #0087ff; text-decoration-color: #0087ff\">Conv2D</span>)              │ (<span style=\"color: #00d7ff; text-decoration-color: #00d7ff\">None</span>, <span style=\"color: #00af00; text-decoration-color: #00af00\">12</span>, <span style=\"color: #00af00; text-decoration-color: #00af00\">12</span>, <span style=\"color: #00af00; text-decoration-color: #00af00\">128</span>)    │        <span style=\"color: #00af00; text-decoration-color: #00af00\">73,856</span> │\n├─────────────────────────────────┼────────────────────────┼───────────────┤\n│ max_pooling2d_62 (<span style=\"color: #0087ff; text-decoration-color: #0087ff\">MaxPooling2D</span>) │ (<span style=\"color: #00d7ff; text-decoration-color: #00d7ff\">None</span>, <span style=\"color: #00af00; text-decoration-color: #00af00\">6</span>, <span style=\"color: #00af00; text-decoration-color: #00af00\">6</span>, <span style=\"color: #00af00; text-decoration-color: #00af00\">128</span>)      │             <span style=\"color: #00af00; text-decoration-color: #00af00\">0</span> │\n├─────────────────────────────────┼────────────────────────┼───────────────┤\n│ flatten_27 (<span style=\"color: #0087ff; text-decoration-color: #0087ff\">Flatten</span>)            │ (<span style=\"color: #00d7ff; text-decoration-color: #00d7ff\">None</span>, <span style=\"color: #00af00; text-decoration-color: #00af00\">4608</span>)           │             <span style=\"color: #00af00; text-decoration-color: #00af00\">0</span> │\n├─────────────────────────────────┼────────────────────────┼───────────────┤\n│ dense_96 (<span style=\"color: #0087ff; text-decoration-color: #0087ff\">Dense</span>)                │ (<span style=\"color: #00d7ff; text-decoration-color: #00d7ff\">None</span>, <span style=\"color: #00af00; text-decoration-color: #00af00\">128</span>)            │       <span style=\"color: #00af00; text-decoration-color: #00af00\">589,952</span> │\n├─────────────────────────────────┼────────────────────────┼───────────────┤\n│ dropout_6 (<span style=\"color: #0087ff; text-decoration-color: #0087ff\">Dropout</span>)             │ (<span style=\"color: #00d7ff; text-decoration-color: #00d7ff\">None</span>, <span style=\"color: #00af00; text-decoration-color: #00af00\">128</span>)            │             <span style=\"color: #00af00; text-decoration-color: #00af00\">0</span> │\n├─────────────────────────────────┼────────────────────────┼───────────────┤\n│ dense_97 (<span style=\"color: #0087ff; text-decoration-color: #0087ff\">Dense</span>)                │ (<span style=\"color: #00d7ff; text-decoration-color: #00d7ff\">None</span>, <span style=\"color: #00af00; text-decoration-color: #00af00\">10</span>)             │         <span style=\"color: #00af00; text-decoration-color: #00af00\">1,290</span> │\n└─────────────────────────────────┴────────────────────────┴───────────────┘\n</pre>\n"
     },
     "metadata": {},
     "output_type": "display_data"
    },
    {
     "data": {
      "text/plain": "\u001B[1m Total params: \u001B[0m\u001B[38;5;34m684,490\u001B[0m (2.61 MB)\n",
      "text/html": "<pre style=\"white-space:pre;overflow-x:auto;line-height:normal;font-family:Menlo,'DejaVu Sans Mono',consolas,'Courier New',monospace\"><span style=\"font-weight: bold\"> Total params: </span><span style=\"color: #00af00; text-decoration-color: #00af00\">684,490</span> (2.61 MB)\n</pre>\n"
     },
     "metadata": {},
     "output_type": "display_data"
    },
    {
     "data": {
      "text/plain": "\u001B[1m Trainable params: \u001B[0m\u001B[38;5;34m684,490\u001B[0m (2.61 MB)\n",
      "text/html": "<pre style=\"white-space:pre;overflow-x:auto;line-height:normal;font-family:Menlo,'DejaVu Sans Mono',consolas,'Courier New',monospace\"><span style=\"font-weight: bold\"> Trainable params: </span><span style=\"color: #00af00; text-decoration-color: #00af00\">684,490</span> (2.61 MB)\n</pre>\n"
     },
     "metadata": {},
     "output_type": "display_data"
    },
    {
     "data": {
      "text/plain": "\u001B[1m Non-trainable params: \u001B[0m\u001B[38;5;34m0\u001B[0m (0.00 B)\n",
      "text/html": "<pre style=\"white-space:pre;overflow-x:auto;line-height:normal;font-family:Menlo,'DejaVu Sans Mono',consolas,'Courier New',monospace\"><span style=\"font-weight: bold\"> Non-trainable params: </span><span style=\"color: #00af00; text-decoration-color: #00af00\">0</span> (0.00 B)\n</pre>\n"
     },
     "metadata": {},
     "output_type": "display_data"
    }
   ],
   "source": [
    "model = Sequential([\n",
    "    Input(shape=X_train.shape[1:]),\n",
    "    Conv2D(32, (3, 3), activation='relu'),\n",
    "    MaxPooling2D((2, 2)),\n",
    "    Conv2D(64, (3, 3), activation='relu'),\n",
    "    MaxPooling2D((2, 2)),\n",
    "    Conv2D(128, (3, 3), activation='relu'),\n",
    "    MaxPooling2D((2, 2)),\n",
    "    Flatten(),\n",
    "    Dense(128, activation='relu'),\n",
    "    Dropout(0.5),\n",
    "    Dense(y_train.shape[1], activation='softmax')\n",
    "])\n",
    "\n",
    "model.compile(optimizer=Adam(), loss='categorical_crossentropy', metrics=['accuracy'])\n",
    "model.summary()"
   ],
   "metadata": {
    "collapsed": false,
    "ExecuteTime": {
     "end_time": "2024-06-07T01:21:35.757787Z",
     "start_time": "2024-06-07T01:21:35.129713Z"
    }
   },
   "id": "1a46acf796137a7",
   "execution_count": 164
  },
  {
   "cell_type": "code",
   "outputs": [
    {
     "name": "stdout",
     "output_type": "stream",
     "text": [
      "---------------------\n",
      "Fold no: 1\n",
      "Train Accuracy: 100.00% || Test Accuracy: 97.44%\n",
      "---------------------\n",
      "Fold no: 2\n",
      "Train Accuracy: 100.00% || Test Accuracy: 96.58%\n",
      "---------------------\n",
      "Fold no: 3\n",
      "Train Accuracy: 100.00% || Test Accuracy: 94.87%\n",
      "---------------------\n",
      "Fold no: 4\n",
      "Train Accuracy: 100.00% || Test Accuracy: 99.15%\n",
      "---------------------\n",
      "Fold no: 5\n",
      "Train Accuracy: 100.00% || Test Accuracy: 95.69%\n",
      "\n",
      "Train Avg Acc: 1.00000\n",
      "Test Avg Acc: 0.96745\n"
     ]
    }
   ],
   "source": [
    "train_accs = []\n",
    "test_accs = []\n",
    "\n",
    "kfold = StratifiedKFold(n_splits=5, shuffle=True, random_state=42)\n",
    "fold = 1\n",
    "\n",
    "for train_index, test_index in kfold.split(dataset, labels):\n",
    "    _, gyro_dim, data_len = dataset.shape\n",
    "\n",
    "    X_train = dataset[train_index]\n",
    "    X_test = dataset[test_index]\n",
    "\n",
    "    X_train = X_train.reshape(X_train.shape[0], gyro_dim, data_len, 1)\n",
    "    X_test = X_test.reshape(X_test.shape[0], gyro_dim, data_len, 1)\n",
    "\n",
    "    y_train = labels[train_index].reshape(-1, 1)\n",
    "    y_test = labels[test_index].reshape(-1, 1)\n",
    "\n",
    "    ohe = OneHotEncoder(sparse_output=False)\n",
    "    y_train = ohe.fit_transform(y_train)\n",
    "    y_test = ohe.transform(y_test)\n",
    "\n",
    "    cnn = Sequential()\n",
    "    cnn.add(Input(shape=(gyro_dim, data_len, 1)))\n",
    "    cnn.add(Conv2D(filters=32, kernel_size=(2,2), strides=2, padding='same', activation='relu'))\n",
    "    cnn.add(MaxPooling2D(pool_size=(2,2), padding='same'))\n",
    "    cnn.add(Conv2D(filters=16, kernel_size=(2,2), strides=2, padding='same', activation='relu'))\n",
    "    cnn.add(MaxPooling2D(pool_size=(2,2), padding='same'))\n",
    "    cnn.add(Flatten())\n",
    "    cnn.add(Dense(units=64, activation='relu'))\n",
    "    cnn.add(Dense(units=32, activation='relu'))\n",
    "    cnn.add(Dense(units=16, activation='relu'))\n",
    "    cnn.add(Dense(units=5, activation='softmax'))\n",
    "\n",
    "    cnn.compile(optimizer='adam', loss='categorical_crossentropy', metrics=['accuracy'])\n",
    "\n",
    "    history = cnn.fit(X_train, y_train, epochs=25, validation_data=(X_test, y_test), verbose=0)\n",
    "\n",
    "    _, train_acc = cnn.evaluate(X_train, y_train, verbose=0)\n",
    "    _, test_acc = cnn.evaluate(X_test, y_test, verbose=0)\n",
    "\n",
    "    print('---------------------')\n",
    "    print(f'Fold no: {fold}')\n",
    "    print(f'Train Accuracy: {train_acc * 100:.2f}% || Test Accuracy: {test_acc * 100:.2f}%')\n",
    "\n",
    "    train_accs.append(train_acc)\n",
    "    test_accs.append(test_acc)\n",
    "\n",
    "    fold += 1\n",
    "\n",
    "train_avg = np.mean(train_accs)\n",
    "test_avg = np.mean(test_accs)\n",
    "\n",
    "print()\n",
    "print(f'Train Avg Acc: {train_avg:.5f}')\n",
    "print(f'Test Avg Acc: {test_avg:.5f}')"
   ],
   "metadata": {
    "collapsed": false,
    "ExecuteTime": {
     "end_time": "2024-06-07T01:22:58.271260Z",
     "start_time": "2024-06-07T01:21:40.221617Z"
    }
   },
   "id": "3b704b078b0edc67",
   "execution_count": 165
  },
  {
   "cell_type": "code",
   "outputs": [
    {
     "name": "stdout",
     "output_type": "stream",
     "text": [
      "Epoch 1/20\n",
      "\u001B[1m15/15\u001B[0m \u001B[32m━━━━━━━━━━━━━━━━━━━━\u001B[0m\u001B[37m\u001B[0m \u001B[1m9s\u001B[0m 104ms/step - accuracy: 0.6295 - loss: 1.0489 - val_accuracy: 0.0171 - val_loss: 3.4884\n",
      "Epoch 2/20\n",
      "\u001B[1m15/15\u001B[0m \u001B[32m━━━━━━━━━━━━━━━━━━━━\u001B[0m\u001B[37m\u001B[0m \u001B[1m1s\u001B[0m 18ms/step - accuracy: 0.8952 - loss: 0.2247 - val_accuracy: 0.1538 - val_loss: 3.0927\n",
      "Epoch 3/20\n",
      "\u001B[1m15/15\u001B[0m \u001B[32m━━━━━━━━━━━━━━━━━━━━\u001B[0m\u001B[37m\u001B[0m \u001B[1m0s\u001B[0m 22ms/step - accuracy: 0.9225 - loss: 0.1462 - val_accuracy: 0.2137 - val_loss: 3.2436\n",
      "Epoch 4/20\n",
      "\u001B[1m15/15\u001B[0m \u001B[32m━━━━━━━━━━━━━━━━━━━━\u001B[0m\u001B[37m\u001B[0m \u001B[1m1s\u001B[0m 22ms/step - accuracy: 0.9347 - loss: 0.1143 - val_accuracy: 0.2564 - val_loss: 2.9309\n",
      "Epoch 5/20\n",
      "\u001B[1m15/15\u001B[0m \u001B[32m━━━━━━━━━━━━━━━━━━━━\u001B[0m\u001B[37m\u001B[0m \u001B[1m0s\u001B[0m 19ms/step - accuracy: 0.9861 - loss: 0.1099 - val_accuracy: 0.2735 - val_loss: 2.8824\n",
      "Epoch 6/20\n",
      "\u001B[1m15/15\u001B[0m \u001B[32m━━━━━━━━━━━━━━━━━━━━\u001B[0m\u001B[37m\u001B[0m \u001B[1m0s\u001B[0m 26ms/step - accuracy: 0.9994 - loss: 0.0983 - val_accuracy: 0.2821 - val_loss: 3.0098\n",
      "Epoch 7/20\n",
      "\u001B[1m15/15\u001B[0m \u001B[32m━━━━━━━━━━━━━━━━━━━━\u001B[0m\u001B[37m\u001B[0m \u001B[1m1s\u001B[0m 21ms/step - accuracy: 0.9934 - loss: 0.1010 - val_accuracy: 0.2906 - val_loss: 3.1325\n",
      "Epoch 8/20\n",
      "\u001B[1m15/15\u001B[0m \u001B[32m━━━━━━━━━━━━━━━━━━━━\u001B[0m\u001B[37m\u001B[0m \u001B[1m0s\u001B[0m 28ms/step - accuracy: 1.0000 - loss: 0.0684 - val_accuracy: 0.2991 - val_loss: 3.4346\n",
      "Epoch 9/20\n",
      "\u001B[1m15/15\u001B[0m \u001B[32m━━━━━━━━━━━━━━━━━━━━\u001B[0m\u001B[37m\u001B[0m \u001B[1m1s\u001B[0m 21ms/step - accuracy: 0.9993 - loss: 0.0627 - val_accuracy: 0.2821 - val_loss: 3.8590\n",
      "Epoch 10/20\n",
      "\u001B[1m15/15\u001B[0m \u001B[32m━━━━━━━━━━━━━━━━━━━━\u001B[0m\u001B[37m\u001B[0m \u001B[1m0s\u001B[0m 17ms/step - accuracy: 1.0000 - loss: 0.0331 - val_accuracy: 0.3077 - val_loss: 3.8481\n",
      "Epoch 11/20\n",
      "\u001B[1m15/15\u001B[0m \u001B[32m━━━━━━━━━━━━━━━━━━━━\u001B[0m\u001B[37m\u001B[0m \u001B[1m1s\u001B[0m 29ms/step - accuracy: 0.9987 - loss: 0.0285 - val_accuracy: 0.2564 - val_loss: 4.6280\n",
      "Epoch 12/20\n",
      "\u001B[1m15/15\u001B[0m \u001B[32m━━━━━━━━━━━━━━━━━━━━\u001B[0m\u001B[37m\u001B[0m \u001B[1m0s\u001B[0m 20ms/step - accuracy: 1.0000 - loss: 0.0173 - val_accuracy: 0.2564 - val_loss: 4.9310\n",
      "Epoch 13/20\n",
      "\u001B[1m15/15\u001B[0m \u001B[32m━━━━━━━━━━━━━━━━━━━━\u001B[0m\u001B[37m\u001B[0m \u001B[1m1s\u001B[0m 24ms/step - accuracy: 1.0000 - loss: 0.0059 - val_accuracy: 0.2821 - val_loss: 4.3151\n",
      "Epoch 14/20\n",
      "\u001B[1m15/15\u001B[0m \u001B[32m━━━━━━━━━━━━━━━━━━━━\u001B[0m\u001B[37m\u001B[0m \u001B[1m0s\u001B[0m 18ms/step - accuracy: 1.0000 - loss: 0.0035 - val_accuracy: 0.2735 - val_loss: 4.5327\n",
      "Epoch 15/20\n",
      "\u001B[1m15/15\u001B[0m \u001B[32m━━━━━━━━━━━━━━━━━━━━\u001B[0m\u001B[37m\u001B[0m \u001B[1m0s\u001B[0m 20ms/step - accuracy: 1.0000 - loss: 0.0015 - val_accuracy: 0.2906 - val_loss: 4.6642\n",
      "Epoch 16/20\n",
      "\u001B[1m15/15\u001B[0m \u001B[32m━━━━━━━━━━━━━━━━━━━━\u001B[0m\u001B[37m\u001B[0m \u001B[1m0s\u001B[0m 18ms/step - accuracy: 1.0000 - loss: 0.0012 - val_accuracy: 0.2906 - val_loss: 4.7679\n",
      "Epoch 17/20\n",
      "\u001B[1m15/15\u001B[0m \u001B[32m━━━━━━━━━━━━━━━━━━━━\u001B[0m\u001B[37m\u001B[0m \u001B[1m0s\u001B[0m 26ms/step - accuracy: 1.0000 - loss: 9.7497e-04 - val_accuracy: 0.2821 - val_loss: 4.8785\n",
      "Epoch 18/20\n",
      "\u001B[1m15/15\u001B[0m \u001B[32m━━━━━━━━━━━━━━━━━━━━\u001B[0m\u001B[37m\u001B[0m \u001B[1m1s\u001B[0m 41ms/step - accuracy: 1.0000 - loss: 5.1296e-04 - val_accuracy: 0.2821 - val_loss: 4.9513\n",
      "Epoch 19/20\n",
      "\u001B[1m15/15\u001B[0m \u001B[32m━━━━━━━━━━━━━━━━━━━━\u001B[0m\u001B[37m\u001B[0m \u001B[1m0s\u001B[0m 18ms/step - accuracy: 1.0000 - loss: 4.6599e-04 - val_accuracy: 0.2735 - val_loss: 5.0258\n",
      "Epoch 20/20\n",
      "\u001B[1m15/15\u001B[0m \u001B[32m━━━━━━━━━━━━━━━━━━━━\u001B[0m\u001B[37m\u001B[0m \u001B[1m0s\u001B[0m 20ms/step - accuracy: 1.0000 - loss: 4.5842e-04 - val_accuracy: 0.2735 - val_loss: 5.0855\n"
     ]
    }
   ],
   "source": [
    "X_train_final = dataset.reshape(dataset.shape[0], dataset.shape[1], dataset.shape[2], 1)\n",
    "y_train_final = ohe.fit_transform(labels.reshape(-1, 1))\n",
    "\n",
    "model = Sequential([\n",
    "    Input(shape=(dataset.shape[1], dataset.shape[2], 1)),\n",
    "    Conv2D(32, (2, 2), strides=2, padding='same', activation='relu'),\n",
    "    MaxPooling2D((2, 2), padding='same'),\n",
    "    Conv2D(16, (2, 2), strides=2, padding='same', activation='relu'),\n",
    "    MaxPooling2D((2, 2), padding='same'),\n",
    "    Flatten(),\n",
    "    Dense(64, activation='relu'),\n",
    "    Dense(32, activation='relu'),\n",
    "    Dense(16, activation='relu'),\n",
    "    Dense(5, activation='softmax')\n",
    "])\n",
    "\n",
    "model.compile(optimizer='adam', loss='categorical_crossentropy', metrics=['accuracy'])\n",
    "history = model.fit(X_train_final, y_train_final, epochs=20, batch_size=32, validation_split=0.2)"
   ],
   "metadata": {
    "collapsed": false,
    "ExecuteTime": {
     "end_time": "2024-06-07T01:31:11.256081Z",
     "start_time": "2024-06-07T01:30:52.123488Z"
    }
   },
   "id": "db2620b94d1436b",
   "execution_count": 169
  },
  {
   "cell_type": "code",
   "outputs": [
    {
     "name": "stdout",
     "output_type": "stream",
     "text": [
      "\u001B[1m4/4\u001B[0m \u001B[32m━━━━━━━━━━━━━━━━━━━━\u001B[0m\u001B[37m\u001B[0m \u001B[1m0s\u001B[0m 9ms/step - accuracy: 0.9407 - loss: 0.3645 \n",
      "Test accuracy: 0.8620689511299133\n"
     ]
    }
   ],
   "source": [
    "test_loss, test_acc = model.evaluate(X_test, y_test)\n",
    "print(f'Test accuracy: {test_acc}')"
   ],
   "metadata": {
    "collapsed": false,
    "ExecuteTime": {
     "end_time": "2024-06-07T01:32:29.540947Z",
     "start_time": "2024-06-07T01:32:29.233953Z"
    }
   },
   "id": "27627928258ff156",
   "execution_count": 170
  },
  {
   "cell_type": "code",
   "outputs": [],
   "source": [
    "model.save(\"../../assets/model/model.h5\")\n",
    "keras.saving.save_model(model, \"../../assets/model/model.keras\")\n",
    "model.save_weights(\"../../assets/model/model_weight.weights.h5\")"
   ],
   "metadata": {
    "collapsed": false,
    "ExecuteTime": {
     "end_time": "2024-06-07T01:42:10.040400Z",
     "start_time": "2024-06-07T01:42:09.715871Z"
    }
   },
   "id": "e1e30f2fe043b568",
   "execution_count": 177
  }
 ],
 "metadata": {
  "kernelspec": {
   "display_name": "Python 3",
   "language": "python",
   "name": "python3"
  },
  "language_info": {
   "codemirror_mode": {
    "name": "ipython",
    "version": 2
   },
   "file_extension": ".py",
   "mimetype": "text/x-python",
   "name": "python",
   "nbconvert_exporter": "python",
   "pygments_lexer": "ipython2",
   "version": "2.7.6"
  }
 },
 "nbformat": 4,
 "nbformat_minor": 5
}
