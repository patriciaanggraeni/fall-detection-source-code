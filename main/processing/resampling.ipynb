{
 "cells": [
  {
   "cell_type": "code",
   "execution_count": 1,
   "id": "initial_id",
   "metadata": {
    "collapsed": true,
    "ExecuteTime": {
     "end_time": "2024-06-10T02:53:08.032821Z",
     "start_time": "2024-06-10T02:52:53.559639Z"
    }
   },
   "outputs": [],
   "source": [
    "import keras\n",
    "import joblib\n",
    "\n",
    "from tensorflow.keras import Sequential\n",
    "from imblearn.over_sampling import SMOTE\n",
    "from sklearn.preprocessing import StandardScaler, OneHotEncoder\n",
    "from sklearn.model_selection import train_test_split\n",
    "from tensorflow.keras.layers import Conv2D, MaxPooling2D, Flatten, Dense, Input"
   ]
  },
  {
   "cell_type": "code",
   "outputs": [],
   "source": [
    "dataset = joblib.load('../../assets/pkl/update/dataset/dataset_v01.pkl')\n",
    "labels = joblib.load('../../assets/pkl/update/dataset/labels_v01.pkl')"
   ],
   "metadata": {
    "collapsed": false,
    "ExecuteTime": {
     "end_time": "2024-06-10T02:53:21.066946Z",
     "start_time": "2024-06-10T02:53:21.008643Z"
    }
   },
   "id": "beb0cd048d2584fb",
   "execution_count": 2
  },
  {
   "cell_type": "code",
   "outputs": [],
   "source": [
    "n_samples, n_channels, n_timesteps = dataset.shape\n",
    "dataset_2d = dataset.reshape((n_samples, n_channels * n_timesteps))"
   ],
   "metadata": {
    "collapsed": false,
    "ExecuteTime": {
     "end_time": "2024-06-10T02:53:22.710547Z",
     "start_time": "2024-06-10T02:53:22.704329Z"
    }
   },
   "id": "b241754a950417c1",
   "execution_count": 3
  },
  {
   "cell_type": "code",
   "outputs": [],
   "source": [
    "smote = SMOTE(random_state=42)\n",
    "dataset_resampled, labels_resampled = smote.fit_resample(dataset_2d, labels)"
   ],
   "metadata": {
    "collapsed": false,
    "ExecuteTime": {
     "end_time": "2024-06-10T02:53:23.540701Z",
     "start_time": "2024-06-10T02:53:23.173347Z"
    }
   },
   "id": "8fb8c3e67e73e88c",
   "execution_count": 4
  },
  {
   "cell_type": "code",
   "outputs": [],
   "source": [
    "dataset_resampled = dataset_resampled.reshape((dataset_resampled.shape[0], n_channels, n_timesteps))"
   ],
   "metadata": {
    "collapsed": false,
    "ExecuteTime": {
     "end_time": "2024-06-10T02:53:23.615573Z",
     "start_time": "2024-06-10T02:53:23.610036Z"
    }
   },
   "id": "ecb2d9b609f77bf0",
   "execution_count": 5
  },
  {
   "cell_type": "code",
   "outputs": [],
   "source": [
    "X_train, X_test, y_train, y_test = train_test_split(dataset_resampled, labels_resampled, test_size=0.2, random_state=42)"
   ],
   "metadata": {
    "collapsed": false,
    "ExecuteTime": {
     "end_time": "2024-06-10T02:53:25.569372Z",
     "start_time": "2024-06-10T02:53:25.546747Z"
    }
   },
   "id": "3e3e5020d7fa3524",
   "execution_count": 6
  },
  {
   "cell_type": "code",
   "outputs": [],
   "source": [
    "scaler = StandardScaler()\n",
    "X_train = scaler.fit_transform(X_train.reshape(-1, n_channels)).reshape(X_train.shape)\n",
    "X_test = scaler.transform(X_test.reshape(-1, n_channels)).reshape(X_test.shape)"
   ],
   "metadata": {
    "collapsed": false,
    "ExecuteTime": {
     "end_time": "2024-06-10T02:53:26.152998Z",
     "start_time": "2024-06-10T02:53:26.049764Z"
    }
   },
   "id": "b6e69b52d6294270",
   "execution_count": 7
  },
  {
   "cell_type": "code",
   "outputs": [],
   "source": [
    "ohe = OneHotEncoder(sparse_output=False)\n",
    "y_train = ohe.fit_transform(y_train.reshape(-1, 1))\n",
    "y_test = ohe.transform(y_test.reshape(-1, 1))"
   ],
   "metadata": {
    "collapsed": false,
    "ExecuteTime": {
     "end_time": "2024-06-10T02:53:27.317786Z",
     "start_time": "2024-06-10T02:53:27.307992Z"
    }
   },
   "id": "63d3097f0b5913e0",
   "execution_count": 8
  },
  {
   "cell_type": "code",
   "outputs": [],
   "source": [
    "X_train = X_train.reshape(X_train.shape[0], n_channels, n_timesteps, 1)\n",
    "X_test = X_test.reshape(X_test.shape[0], n_channels, n_timesteps, 1)"
   ],
   "metadata": {
    "collapsed": false,
    "ExecuteTime": {
     "end_time": "2024-06-10T02:53:27.920420Z",
     "start_time": "2024-06-10T02:53:27.913943Z"
    }
   },
   "id": "1d5b6862b533f7e6",
   "execution_count": 9
  },
  {
   "cell_type": "code",
   "outputs": [],
   "source": [
    "model = Sequential([\n",
    "    Input(shape=(n_channels, n_timesteps, 1)),\n",
    "    Conv2D(32, (2, 2), strides=2, padding='same', activation='relu'),\n",
    "    MaxPooling2D((2, 2), padding='same'),\n",
    "    Conv2D(16, (2, 2), strides=2, padding='same', activation='relu'),\n",
    "    MaxPooling2D((2, 2), padding='same'),\n",
    "    Flatten(),\n",
    "    Dense(64, activation='relu'),\n",
    "    Dense(32, activation='relu'),\n",
    "    Dense(16, activation='relu'),\n",
    "    Dense(y_train.shape[1], activation='softmax')\n",
    "])"
   ],
   "metadata": {
    "collapsed": false,
    "ExecuteTime": {
     "end_time": "2024-06-10T02:53:28.696997Z",
     "start_time": "2024-06-10T02:53:28.488753Z"
    }
   },
   "id": "3ea76b7a7ace4470",
   "execution_count": 10
  },
  {
   "cell_type": "code",
   "outputs": [
    {
     "name": "stdout",
     "output_type": "stream",
     "text": [
      "Epoch 1/20\n",
      "\u001B[1m16/16\u001B[0m \u001B[32m━━━━━━━━━━━━━━━━━━━━\u001B[0m\u001B[37m\u001B[0m \u001B[1m6s\u001B[0m 55ms/step - accuracy: 0.4188 - loss: 1.4750 - val_accuracy: 0.7025 - val_loss: 0.9881\n",
      "Epoch 2/20\n",
      "\u001B[1m16/16\u001B[0m \u001B[32m━━━━━━━━━━━━━━━━━━━━\u001B[0m\u001B[37m\u001B[0m \u001B[1m2s\u001B[0m 18ms/step - accuracy: 0.7771 - loss: 0.8338 - val_accuracy: 0.9587 - val_loss: 0.3728\n",
      "Epoch 3/20\n",
      "\u001B[1m16/16\u001B[0m \u001B[32m━━━━━━━━━━━━━━━━━━━━\u001B[0m\u001B[37m\u001B[0m \u001B[1m0s\u001B[0m 19ms/step - accuracy: 0.9774 - loss: 0.2909 - val_accuracy: 0.9917 - val_loss: 0.0843\n",
      "Epoch 4/20\n",
      "\u001B[1m16/16\u001B[0m \u001B[32m━━━━━━━━━━━━━━━━━━━━\u001B[0m\u001B[37m\u001B[0m \u001B[1m0s\u001B[0m 17ms/step - accuracy: 1.0000 - loss: 0.0659 - val_accuracy: 0.9917 - val_loss: 0.0298\n",
      "Epoch 5/20\n",
      "\u001B[1m16/16\u001B[0m \u001B[32m━━━━━━━━━━━━━━━━━━━━\u001B[0m\u001B[37m\u001B[0m \u001B[1m0s\u001B[0m 16ms/step - accuracy: 1.0000 - loss: 0.0153 - val_accuracy: 1.0000 - val_loss: 0.0075\n",
      "Epoch 6/20\n",
      "\u001B[1m16/16\u001B[0m \u001B[32m━━━━━━━━━━━━━━━━━━━━\u001B[0m\u001B[37m\u001B[0m \u001B[1m0s\u001B[0m 16ms/step - accuracy: 1.0000 - loss: 0.0057 - val_accuracy: 1.0000 - val_loss: 0.0038\n",
      "Epoch 7/20\n",
      "\u001B[1m16/16\u001B[0m \u001B[32m━━━━━━━━━━━━━━━━━━━━\u001B[0m\u001B[37m\u001B[0m \u001B[1m0s\u001B[0m 20ms/step - accuracy: 1.0000 - loss: 0.0031 - val_accuracy: 1.0000 - val_loss: 0.0031\n",
      "Epoch 8/20\n",
      "\u001B[1m16/16\u001B[0m \u001B[32m━━━━━━━━━━━━━━━━━━━━\u001B[0m\u001B[37m\u001B[0m \u001B[1m0s\u001B[0m 16ms/step - accuracy: 1.0000 - loss: 0.0020 - val_accuracy: 1.0000 - val_loss: 0.0027\n",
      "Epoch 9/20\n",
      "\u001B[1m16/16\u001B[0m \u001B[32m━━━━━━━━━━━━━━━━━━━━\u001B[0m\u001B[37m\u001B[0m \u001B[1m0s\u001B[0m 22ms/step - accuracy: 1.0000 - loss: 0.0015 - val_accuracy: 1.0000 - val_loss: 0.0025\n",
      "Epoch 10/20\n",
      "\u001B[1m16/16\u001B[0m \u001B[32m━━━━━━━━━━━━━━━━━━━━\u001B[0m\u001B[37m\u001B[0m \u001B[1m0s\u001B[0m 19ms/step - accuracy: 1.0000 - loss: 0.0014 - val_accuracy: 1.0000 - val_loss: 0.0025\n",
      "Epoch 11/20\n",
      "\u001B[1m16/16\u001B[0m \u001B[32m━━━━━━━━━━━━━━━━━━━━\u001B[0m\u001B[37m\u001B[0m \u001B[1m0s\u001B[0m 15ms/step - accuracy: 1.0000 - loss: 0.0011 - val_accuracy: 1.0000 - val_loss: 0.0023\n",
      "Epoch 12/20\n",
      "\u001B[1m16/16\u001B[0m \u001B[32m━━━━━━━━━━━━━━━━━━━━\u001B[0m\u001B[37m\u001B[0m \u001B[1m0s\u001B[0m 18ms/step - accuracy: 1.0000 - loss: 9.0077e-04 - val_accuracy: 1.0000 - val_loss: 0.0020\n",
      "Epoch 13/20\n",
      "\u001B[1m16/16\u001B[0m \u001B[32m━━━━━━━━━━━━━━━━━━━━\u001B[0m\u001B[37m\u001B[0m \u001B[1m0s\u001B[0m 23ms/step - accuracy: 1.0000 - loss: 8.8422e-04 - val_accuracy: 1.0000 - val_loss: 0.0018\n",
      "Epoch 14/20\n",
      "\u001B[1m16/16\u001B[0m \u001B[32m━━━━━━━━━━━━━━━━━━━━\u001B[0m\u001B[37m\u001B[0m \u001B[1m0s\u001B[0m 18ms/step - accuracy: 1.0000 - loss: 6.5865e-04 - val_accuracy: 1.0000 - val_loss: 0.0014\n",
      "Epoch 15/20\n",
      "\u001B[1m16/16\u001B[0m \u001B[32m━━━━━━━━━━━━━━━━━━━━\u001B[0m\u001B[37m\u001B[0m \u001B[1m0s\u001B[0m 19ms/step - accuracy: 1.0000 - loss: 6.2842e-04 - val_accuracy: 1.0000 - val_loss: 0.0016\n",
      "Epoch 16/20\n",
      "\u001B[1m16/16\u001B[0m \u001B[32m━━━━━━━━━━━━━━━━━━━━\u001B[0m\u001B[37m\u001B[0m \u001B[1m1s\u001B[0m 14ms/step - accuracy: 1.0000 - loss: 5.6655e-04 - val_accuracy: 1.0000 - val_loss: 0.0014\n",
      "Epoch 17/20\n",
      "\u001B[1m16/16\u001B[0m \u001B[32m━━━━━━━━━━━━━━━━━━━━\u001B[0m\u001B[37m\u001B[0m \u001B[1m0s\u001B[0m 19ms/step - accuracy: 1.0000 - loss: 5.2692e-04 - val_accuracy: 1.0000 - val_loss: 0.0013\n",
      "Epoch 18/20\n",
      "\u001B[1m16/16\u001B[0m \u001B[32m━━━━━━━━━━━━━━━━━━━━\u001B[0m\u001B[37m\u001B[0m \u001B[1m1s\u001B[0m 19ms/step - accuracy: 1.0000 - loss: 4.4467e-04 - val_accuracy: 1.0000 - val_loss: 0.0014\n",
      "Epoch 19/20\n",
      "\u001B[1m16/16\u001B[0m \u001B[32m━━━━━━━━━━━━━━━━━━━━\u001B[0m\u001B[37m\u001B[0m \u001B[1m0s\u001B[0m 19ms/step - accuracy: 1.0000 - loss: 4.0837e-04 - val_accuracy: 1.0000 - val_loss: 0.0015\n",
      "Epoch 20/20\n",
      "\u001B[1m16/16\u001B[0m \u001B[32m━━━━━━━━━━━━━━━━━━━━\u001B[0m\u001B[37m\u001B[0m \u001B[1m1s\u001B[0m 24ms/step - accuracy: 1.0000 - loss: 3.8478e-04 - val_accuracy: 1.0000 - val_loss: 0.0013\n"
     ]
    }
   ],
   "source": [
    "model.compile(optimizer='adam', loss='categorical_crossentropy', metrics=['accuracy'])\n",
    "history = model.fit(X_train, y_train, epochs=20, batch_size=32, validation_split=0.2)"
   ],
   "metadata": {
    "collapsed": false,
    "ExecuteTime": {
     "end_time": "2024-06-10T02:53:46.003067Z",
     "start_time": "2024-06-10T02:53:29.930088Z"
    }
   },
   "id": "40fc9a241e0b16a8",
   "execution_count": 11
  },
  {
   "cell_type": "code",
   "outputs": [
    {
     "name": "stdout",
     "output_type": "stream",
     "text": [
      "\u001B[1m5/5\u001B[0m \u001B[32m━━━━━━━━━━━━━━━━━━━━\u001B[0m\u001B[37m\u001B[0m \u001B[1m0s\u001B[0m 7ms/step - accuracy: 0.9930 - loss: 0.0306 \n",
      "Test accuracy: 0.9867549538612366\n"
     ]
    }
   ],
   "source": [
    "test_loss, test_acc = model.evaluate(X_test, y_test)\n",
    "print(f'Test accuracy: {test_acc}')"
   ],
   "metadata": {
    "collapsed": false,
    "ExecuteTime": {
     "end_time": "2024-06-10T02:53:48.368753Z",
     "start_time": "2024-06-10T02:53:48.191030Z"
    }
   },
   "id": "a74535a962bcd3ba",
   "execution_count": 12
  },
  {
   "cell_type": "code",
   "outputs": [
    {
     "name": "stderr",
     "output_type": "stream",
     "text": [
      "WARNING:absl:You are saving your model as an HDF5 file via `model.save()` or `keras.saving.save_model(model)`. This file format is considered legacy. We recommend using instead the native Keras format, e.g. `model.save('my_model.keras')` or `keras.saving.save_model(model, 'my_model.keras')`. \n"
     ]
    },
    {
     "name": "stdout",
     "output_type": "stream",
     "text": [
      "Save done!\n"
     ]
    }
   ],
   "source": [
    "model.save(\"../../assets/model/update_v2/resampling/model.h5\")\n",
    "keras.saving.save_model(model, \"../../assets/model/update_v2/resampling/model.keras\")\n",
    "model.save_weights(\"../../assets/model/update_v2/resampling/model_weight.weights.h5\")\n",
    "\n",
    "print(\"Save done!\")"
   ],
   "metadata": {
    "collapsed": false,
    "ExecuteTime": {
     "end_time": "2024-06-10T02:55:27.441833Z",
     "start_time": "2024-06-10T02:55:27.274628Z"
    }
   },
   "id": "dceb27a617b5a632",
   "execution_count": 14
  }
 ],
 "metadata": {
  "kernelspec": {
   "display_name": "Python 3",
   "language": "python",
   "name": "python3"
  },
  "language_info": {
   "codemirror_mode": {
    "name": "ipython",
    "version": 2
   },
   "file_extension": ".py",
   "mimetype": "text/x-python",
   "name": "python",
   "nbconvert_exporter": "python",
   "pygments_lexer": "ipython2",
   "version": "2.7.6"
  }
 },
 "nbformat": 4,
 "nbformat_minor": 5
}
