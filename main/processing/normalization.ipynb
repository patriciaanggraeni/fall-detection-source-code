{
 "cells": [
  {
   "cell_type": "code",
   "execution_count": 25,
   "id": "initial_id",
   "metadata": {
    "collapsed": true,
    "ExecuteTime": {
     "end_time": "2024-06-10T01:57:32.450535Z",
     "start_time": "2024-06-10T01:57:29.808309Z"
    }
   },
   "outputs": [],
   "source": [
    "import io\n",
    "import os\n",
    "import random\n",
    "import joblib\n",
    "import numpy as np\n",
    "import pandas as pd\n",
    "import matplotlib.pyplot as plt\n",
    "\n",
    "from google.cloud import storage\n",
    "from assets.credential_key import key"
   ]
  },
  {
   "cell_type": "code",
   "outputs": [],
   "source": [
    "key.get_credential_key()\n",
    "client = storage.Client()\n",
    "bucket = client.bucket(\"fall-detection-bucket\")"
   ],
   "metadata": {
    "collapsed": false,
    "ExecuteTime": {
     "end_time": "2024-06-10T01:43:41.581875Z",
     "start_time": "2024-06-10T01:43:41.514921Z"
    }
   },
   "id": "a28d7384687b580f",
   "execution_count": 16
  },
  {
   "cell_type": "code",
   "outputs": [],
   "source": [
    "def format_number(number):\n",
    "    try:\n",
    "        return f\"{float(number):.2f}\"\n",
    "    except ValueError:\n",
    "        return number"
   ],
   "metadata": {
    "collapsed": false,
    "ExecuteTime": {
     "end_time": "2024-06-10T01:39:56.268129Z",
     "start_time": "2024-06-10T01:39:56.258449Z"
    }
   },
   "id": "e11494e0623c9ac6",
   "execution_count": 5
  },
  {
   "cell_type": "code",
   "outputs": [],
   "source": [
    "def get_folder_names():\n",
    "    all_blobs = bucket.list_blobs()\n",
    "    \n",
    "    folder_names = set()\n",
    "    for blob in all_blobs:\n",
    "        if blob.name.startswith('sensor_data/'):\n",
    "            folder_name = blob.name.split('/')[1]\n",
    "            folder_names.add(folder_name)\n",
    "    \n",
    "    return folder_names"
   ],
   "metadata": {
    "collapsed": false,
    "ExecuteTime": {
     "end_time": "2024-06-10T01:39:56.289643Z",
     "start_time": "2024-06-10T01:39:56.274129Z"
    }
   },
   "id": "4f84b29e06f74608",
   "execution_count": 6
  },
  {
   "cell_type": "code",
   "outputs": [],
   "source": [
    "def create_folder_in_gcs(bucket_name, folder_name):\n",
    "    blob = bucket.blob(folder_name)\n",
    "    blob.upload_from_string('')\n",
    "    print(f\"Folder {folder_name} berhasil dibuat di bucket {bucket_name}\")"
   ],
   "metadata": {
    "collapsed": false,
    "ExecuteTime": {
     "end_time": "2024-06-10T01:39:56.307524Z",
     "start_time": "2024-06-10T01:39:56.291636Z"
    }
   },
   "id": "50105a6e46546f91",
   "execution_count": 7
  },
  {
   "cell_type": "code",
   "outputs": [],
   "source": [
    "def get_list_data(bucket, task_names):\n",
    "    all_data = list(bucket.list_blobs())\n",
    "     \n",
    "    data_task = {\n",
    "        task_name: [\n",
    "            blob for blob in all_data if task_name in blob.name and \"sensor_data/\" in blob.name\n",
    "        ] for task_name in task_names\n",
    "    }\n",
    "    \n",
    "    return data_task"
   ],
   "metadata": {
    "collapsed": false,
    "ExecuteTime": {
     "end_time": "2024-06-10T01:39:58.850653Z",
     "start_time": "2024-06-10T01:39:58.843474Z"
    }
   },
   "id": "121d5824f310bf01",
   "execution_count": 8
  },
  {
   "cell_type": "code",
   "outputs": [],
   "source": [
    "def replace_zeros_with_interpolation(df, columns):\n",
    "    for column in columns:\n",
    "        if column in df.columns:\n",
    "            df[column] = pd.to_numeric(df[column], errors='coerce')  # Konversi ke tipe numerik\n",
    "            df[column] = df[column].replace(0, np.nan)\n",
    "            df[column] = df[column].interpolate(method='linear', limit_direction='both').infer_objects(copy=False)\n",
    "    return df"
   ],
   "metadata": {
    "collapsed": false,
    "ExecuteTime": {
     "end_time": "2024-06-10T01:40:01.033476Z",
     "start_time": "2024-06-10T01:40:01.020667Z"
    }
   },
   "id": "945a062ed6776c8b",
   "execution_count": 9
  },
  {
   "cell_type": "code",
   "outputs": [],
   "source": [
    "def normalize_and_upload(blob):\n",
    "    try:\n",
    "        if 'sensor_data/' in blob.name:\n",
    "            blob_data = blob.download_as_string()\n",
    "            data = io.StringIO(blob_data.decode('utf-8'))\n",
    "            df = pd.read_csv(data)\n",
    "\n",
    "            # Kolom yang akan dinormalisasi\n",
    "            normalize_columns = [\"AccX\", \"AccY\", \"AccZ\", \"GyrX\", \"GyrY\", \"GyrZ\"]\n",
    "\n",
    "            # Ganti nilai nol dengan interpolasi\n",
    "            df = replace_zeros_with_interpolation(df, normalize_columns)\n",
    "            \n",
    "            # Format angka dalam data CSV hanya untuk kolom yang ditentukan\n",
    "            df[normalize_columns] = df[normalize_columns].apply(lambda col: col.map(format_number))\n",
    "\n",
    "            # Tulis hasil ke file CSV baru dalam bentuk string\n",
    "            output_data = io.StringIO()\n",
    "            df.to_csv(output_data, index=False)\n",
    "            output_data.seek(0)  # Kembali ke awal string\n",
    "\n",
    "            # Menentukan nama folder hasil normalisasi di GCS\n",
    "            folder_name = \"normalized_sensor_data/\" + blob.name.split(\"/\")[1]\n",
    "            \n",
    "            # Normalisasi data dan menyimpannya ke Google Cloud Storage\n",
    "            destination_blob_name = folder_name + \"/normalized_\" + blob.name.split('/')[-1]\n",
    "            normalized_blob = bucket.blob(destination_blob_name)\n",
    "            normalized_blob.upload_from_string(output_data.getvalue(), content_type='text/csv')\n",
    "            \n",
    "            print(f\"File {blob.name} telah dinormalisasi dan disimpan kembali di GCS sebagai {destination_blob_name}.\")\n",
    "        else:\n",
    "            print(f\"File {blob.name} tidak berada dalam folder sensor_data. Melewati normalisasi.\")\n",
    "    except Exception as e:\n",
    "        print(f\"Terjadi kesalahan saat melakukan normalisasi: {e}\")\n"
   ],
   "metadata": {
    "collapsed": false,
    "ExecuteTime": {
     "end_time": "2024-06-09T02:00:42.793617Z",
     "start_time": "2024-06-09T02:00:42.774777Z"
    }
   },
   "id": "96eebf1d5d915e51",
   "execution_count": 74
  },
  {
   "cell_type": "code",
   "outputs": [
    {
     "ename": "KeyboardInterrupt",
     "evalue": "",
     "output_type": "error",
     "traceback": [
      "\u001B[1;31m---------------------------------------------------------------------------\u001B[0m",
      "\u001B[1;31mKeyboardInterrupt\u001B[0m                         Traceback (most recent call last)",
      "Cell \u001B[1;32mIn[10], line 2\u001B[0m\n\u001B[0;32m      1\u001B[0m \u001B[38;5;66;03m# Mendapatkan nama folder yang ada di Google Cloud Storage\u001B[39;00m\n\u001B[1;32m----> 2\u001B[0m folder_names \u001B[38;5;241m=\u001B[39m \u001B[43mget_folder_names\u001B[49m\u001B[43m(\u001B[49m\u001B[43m)\u001B[49m\n\u001B[0;32m      4\u001B[0m \u001B[38;5;66;03m# Membuat folder di dalam folder normalized_sensor_data\u001B[39;00m\n\u001B[0;32m      5\u001B[0m \u001B[38;5;28;01mfor\u001B[39;00m folder_name \u001B[38;5;129;01min\u001B[39;00m folder_names:\n",
      "Cell \u001B[1;32mIn[6], line 5\u001B[0m, in \u001B[0;36mget_folder_names\u001B[1;34m()\u001B[0m\n\u001B[0;32m      2\u001B[0m all_blobs \u001B[38;5;241m=\u001B[39m bucket\u001B[38;5;241m.\u001B[39mlist_blobs()\n\u001B[0;32m      4\u001B[0m folder_names \u001B[38;5;241m=\u001B[39m \u001B[38;5;28mset\u001B[39m()\n\u001B[1;32m----> 5\u001B[0m \u001B[43m\u001B[49m\u001B[38;5;28;43;01mfor\u001B[39;49;00m\u001B[43m \u001B[49m\u001B[43mblob\u001B[49m\u001B[43m \u001B[49m\u001B[38;5;129;43;01min\u001B[39;49;00m\u001B[43m \u001B[49m\u001B[43mall_blobs\u001B[49m\u001B[43m:\u001B[49m\n\u001B[0;32m      6\u001B[0m \u001B[43m    \u001B[49m\u001B[38;5;28;43;01mif\u001B[39;49;00m\u001B[43m \u001B[49m\u001B[43mblob\u001B[49m\u001B[38;5;241;43m.\u001B[39;49m\u001B[43mname\u001B[49m\u001B[38;5;241;43m.\u001B[39;49m\u001B[43mstartswith\u001B[49m\u001B[43m(\u001B[49m\u001B[38;5;124;43m'\u001B[39;49m\u001B[38;5;124;43msensor_data/\u001B[39;49m\u001B[38;5;124;43m'\u001B[39;49m\u001B[43m)\u001B[49m\u001B[43m:\u001B[49m\n\u001B[0;32m      7\u001B[0m \u001B[43m        \u001B[49m\u001B[43mfolder_name\u001B[49m\u001B[43m \u001B[49m\u001B[38;5;241;43m=\u001B[39;49m\u001B[43m \u001B[49m\u001B[43mblob\u001B[49m\u001B[38;5;241;43m.\u001B[39;49m\u001B[43mname\u001B[49m\u001B[38;5;241;43m.\u001B[39;49m\u001B[43msplit\u001B[49m\u001B[43m(\u001B[49m\u001B[38;5;124;43m'\u001B[39;49m\u001B[38;5;124;43m/\u001B[39;49m\u001B[38;5;124;43m'\u001B[39;49m\u001B[43m)\u001B[49m\u001B[43m[\u001B[49m\u001B[38;5;241;43m1\u001B[39;49m\u001B[43m]\u001B[49m\n",
      "File \u001B[1;32m~\\AppData\\Roaming\\Python\\Python312\\site-packages\\google\\api_core\\page_iterator.py:208\u001B[0m, in \u001B[0;36mIterator._items_iter\u001B[1;34m(self)\u001B[0m\n\u001B[0;32m    206\u001B[0m \u001B[38;5;28;01mdef\u001B[39;00m \u001B[38;5;21m_items_iter\u001B[39m(\u001B[38;5;28mself\u001B[39m):\n\u001B[0;32m    207\u001B[0m \u001B[38;5;250m    \u001B[39m\u001B[38;5;124;03m\"\"\"Iterator for each item returned.\"\"\"\u001B[39;00m\n\u001B[1;32m--> 208\u001B[0m \u001B[43m    \u001B[49m\u001B[38;5;28;43;01mfor\u001B[39;49;00m\u001B[43m \u001B[49m\u001B[43mpage\u001B[49m\u001B[43m \u001B[49m\u001B[38;5;129;43;01min\u001B[39;49;00m\u001B[43m \u001B[49m\u001B[38;5;28;43mself\u001B[39;49m\u001B[38;5;241;43m.\u001B[39;49m\u001B[43m_page_iter\u001B[49m\u001B[43m(\u001B[49m\u001B[43mincrement\u001B[49m\u001B[38;5;241;43m=\u001B[39;49m\u001B[38;5;28;43;01mFalse\u001B[39;49;00m\u001B[43m)\u001B[49m\u001B[43m:\u001B[49m\n\u001B[0;32m    209\u001B[0m \u001B[43m        \u001B[49m\u001B[38;5;28;43;01mfor\u001B[39;49;00m\u001B[43m \u001B[49m\u001B[43mitem\u001B[49m\u001B[43m \u001B[49m\u001B[38;5;129;43;01min\u001B[39;49;00m\u001B[43m \u001B[49m\u001B[43mpage\u001B[49m\u001B[43m:\u001B[49m\n\u001B[0;32m    210\u001B[0m \u001B[43m            \u001B[49m\u001B[38;5;28;43mself\u001B[39;49m\u001B[38;5;241;43m.\u001B[39;49m\u001B[43mnum_results\u001B[49m\u001B[43m \u001B[49m\u001B[38;5;241;43m+\u001B[39;49m\u001B[38;5;241;43m=\u001B[39;49m\u001B[43m \u001B[49m\u001B[38;5;241;43m1\u001B[39;49m\n",
      "File \u001B[1;32m~\\AppData\\Roaming\\Python\\Python312\\site-packages\\google\\api_core\\page_iterator.py:250\u001B[0m, in \u001B[0;36mIterator._page_iter\u001B[1;34m(self, increment)\u001B[0m\n\u001B[0;32m    248\u001B[0m     \u001B[38;5;28mself\u001B[39m\u001B[38;5;241m.\u001B[39mnum_results \u001B[38;5;241m+\u001B[39m\u001B[38;5;241m=\u001B[39m page\u001B[38;5;241m.\u001B[39mnum_items\n\u001B[0;32m    249\u001B[0m \u001B[38;5;28;01myield\u001B[39;00m page\n\u001B[1;32m--> 250\u001B[0m page \u001B[38;5;241m=\u001B[39m \u001B[38;5;28;43mself\u001B[39;49m\u001B[38;5;241;43m.\u001B[39;49m\u001B[43m_next_page\u001B[49m\u001B[43m(\u001B[49m\u001B[43m)\u001B[49m\n",
      "File \u001B[1;32m~\\AppData\\Roaming\\Python\\Python312\\site-packages\\google\\api_core\\page_iterator.py:373\u001B[0m, in \u001B[0;36mHTTPIterator._next_page\u001B[1;34m(self)\u001B[0m\n\u001B[0;32m    366\u001B[0m \u001B[38;5;250m\u001B[39m\u001B[38;5;124;03m\"\"\"Get the next page in the iterator.\u001B[39;00m\n\u001B[0;32m    367\u001B[0m \n\u001B[0;32m    368\u001B[0m \u001B[38;5;124;03mReturns:\u001B[39;00m\n\u001B[0;32m    369\u001B[0m \u001B[38;5;124;03m    Optional[Page]: The next page in the iterator or :data:`None` if\u001B[39;00m\n\u001B[0;32m    370\u001B[0m \u001B[38;5;124;03m        there are no pages left.\u001B[39;00m\n\u001B[0;32m    371\u001B[0m \u001B[38;5;124;03m\"\"\"\u001B[39;00m\n\u001B[0;32m    372\u001B[0m \u001B[38;5;28;01mif\u001B[39;00m \u001B[38;5;28mself\u001B[39m\u001B[38;5;241m.\u001B[39m_has_next_page():\n\u001B[1;32m--> 373\u001B[0m     response \u001B[38;5;241m=\u001B[39m \u001B[38;5;28;43mself\u001B[39;49m\u001B[38;5;241;43m.\u001B[39;49m\u001B[43m_get_next_page_response\u001B[49m\u001B[43m(\u001B[49m\u001B[43m)\u001B[49m\n\u001B[0;32m    374\u001B[0m     items \u001B[38;5;241m=\u001B[39m response\u001B[38;5;241m.\u001B[39mget(\u001B[38;5;28mself\u001B[39m\u001B[38;5;241m.\u001B[39m_items_key, ())\n\u001B[0;32m    375\u001B[0m     page \u001B[38;5;241m=\u001B[39m Page(\u001B[38;5;28mself\u001B[39m, items, \u001B[38;5;28mself\u001B[39m\u001B[38;5;241m.\u001B[39mitem_to_value, raw_page\u001B[38;5;241m=\u001B[39mresponse)\n",
      "File \u001B[1;32m~\\AppData\\Roaming\\Python\\Python312\\site-packages\\google\\api_core\\page_iterator.py:432\u001B[0m, in \u001B[0;36mHTTPIterator._get_next_page_response\u001B[1;34m(self)\u001B[0m\n\u001B[0;32m    430\u001B[0m params \u001B[38;5;241m=\u001B[39m \u001B[38;5;28mself\u001B[39m\u001B[38;5;241m.\u001B[39m_get_query_params()\n\u001B[0;32m    431\u001B[0m \u001B[38;5;28;01mif\u001B[39;00m \u001B[38;5;28mself\u001B[39m\u001B[38;5;241m.\u001B[39m_HTTP_METHOD \u001B[38;5;241m==\u001B[39m \u001B[38;5;124m\"\u001B[39m\u001B[38;5;124mGET\u001B[39m\u001B[38;5;124m\"\u001B[39m:\n\u001B[1;32m--> 432\u001B[0m     \u001B[38;5;28;01mreturn\u001B[39;00m \u001B[38;5;28;43mself\u001B[39;49m\u001B[38;5;241;43m.\u001B[39;49m\u001B[43mapi_request\u001B[49m\u001B[43m(\u001B[49m\n\u001B[0;32m    433\u001B[0m \u001B[43m        \u001B[49m\u001B[43mmethod\u001B[49m\u001B[38;5;241;43m=\u001B[39;49m\u001B[38;5;28;43mself\u001B[39;49m\u001B[38;5;241;43m.\u001B[39;49m\u001B[43m_HTTP_METHOD\u001B[49m\u001B[43m,\u001B[49m\u001B[43m \u001B[49m\u001B[43mpath\u001B[49m\u001B[38;5;241;43m=\u001B[39;49m\u001B[38;5;28;43mself\u001B[39;49m\u001B[38;5;241;43m.\u001B[39;49m\u001B[43mpath\u001B[49m\u001B[43m,\u001B[49m\u001B[43m \u001B[49m\u001B[43mquery_params\u001B[49m\u001B[38;5;241;43m=\u001B[39;49m\u001B[43mparams\u001B[49m\n\u001B[0;32m    434\u001B[0m \u001B[43m    \u001B[49m\u001B[43m)\u001B[49m\n\u001B[0;32m    435\u001B[0m \u001B[38;5;28;01melif\u001B[39;00m \u001B[38;5;28mself\u001B[39m\u001B[38;5;241m.\u001B[39m_HTTP_METHOD \u001B[38;5;241m==\u001B[39m \u001B[38;5;124m\"\u001B[39m\u001B[38;5;124mPOST\u001B[39m\u001B[38;5;124m\"\u001B[39m:\n\u001B[0;32m    436\u001B[0m     \u001B[38;5;28;01mreturn\u001B[39;00m \u001B[38;5;28mself\u001B[39m\u001B[38;5;241m.\u001B[39mapi_request(\n\u001B[0;32m    437\u001B[0m         method\u001B[38;5;241m=\u001B[39m\u001B[38;5;28mself\u001B[39m\u001B[38;5;241m.\u001B[39m_HTTP_METHOD, path\u001B[38;5;241m=\u001B[39m\u001B[38;5;28mself\u001B[39m\u001B[38;5;241m.\u001B[39mpath, data\u001B[38;5;241m=\u001B[39mparams\n\u001B[0;32m    438\u001B[0m     )\n",
      "File \u001B[1;32m~\\AppData\\Roaming\\Python\\Python312\\site-packages\\google\\cloud\\storage\\_http.py:78\u001B[0m, in \u001B[0;36mConnection.api_request\u001B[1;34m(self, *args, **kwargs)\u001B[0m\n\u001B[0;32m     76\u001B[0m     \u001B[38;5;28;01mif\u001B[39;00m retry:\n\u001B[0;32m     77\u001B[0m         call \u001B[38;5;241m=\u001B[39m retry(call)\n\u001B[1;32m---> 78\u001B[0m \u001B[38;5;28;01mreturn\u001B[39;00m \u001B[43mcall\u001B[49m\u001B[43m(\u001B[49m\u001B[43m)\u001B[49m\n",
      "File \u001B[1;32m~\\AppData\\Roaming\\Python\\Python312\\site-packages\\google\\api_core\\retry\\retry_unary.py:293\u001B[0m, in \u001B[0;36mRetry.__call__.<locals>.retry_wrapped_func\u001B[1;34m(*args, **kwargs)\u001B[0m\n\u001B[0;32m    289\u001B[0m target \u001B[38;5;241m=\u001B[39m functools\u001B[38;5;241m.\u001B[39mpartial(func, \u001B[38;5;241m*\u001B[39margs, \u001B[38;5;241m*\u001B[39m\u001B[38;5;241m*\u001B[39mkwargs)\n\u001B[0;32m    290\u001B[0m sleep_generator \u001B[38;5;241m=\u001B[39m exponential_sleep_generator(\n\u001B[0;32m    291\u001B[0m     \u001B[38;5;28mself\u001B[39m\u001B[38;5;241m.\u001B[39m_initial, \u001B[38;5;28mself\u001B[39m\u001B[38;5;241m.\u001B[39m_maximum, multiplier\u001B[38;5;241m=\u001B[39m\u001B[38;5;28mself\u001B[39m\u001B[38;5;241m.\u001B[39m_multiplier\n\u001B[0;32m    292\u001B[0m )\n\u001B[1;32m--> 293\u001B[0m \u001B[38;5;28;01mreturn\u001B[39;00m \u001B[43mretry_target\u001B[49m\u001B[43m(\u001B[49m\n\u001B[0;32m    294\u001B[0m \u001B[43m    \u001B[49m\u001B[43mtarget\u001B[49m\u001B[43m,\u001B[49m\n\u001B[0;32m    295\u001B[0m \u001B[43m    \u001B[49m\u001B[38;5;28;43mself\u001B[39;49m\u001B[38;5;241;43m.\u001B[39;49m\u001B[43m_predicate\u001B[49m\u001B[43m,\u001B[49m\n\u001B[0;32m    296\u001B[0m \u001B[43m    \u001B[49m\u001B[43msleep_generator\u001B[49m\u001B[43m,\u001B[49m\n\u001B[0;32m    297\u001B[0m \u001B[43m    \u001B[49m\u001B[43mtimeout\u001B[49m\u001B[38;5;241;43m=\u001B[39;49m\u001B[38;5;28;43mself\u001B[39;49m\u001B[38;5;241;43m.\u001B[39;49m\u001B[43m_timeout\u001B[49m\u001B[43m,\u001B[49m\n\u001B[0;32m    298\u001B[0m \u001B[43m    \u001B[49m\u001B[43mon_error\u001B[49m\u001B[38;5;241;43m=\u001B[39;49m\u001B[43mon_error\u001B[49m\u001B[43m,\u001B[49m\n\u001B[0;32m    299\u001B[0m \u001B[43m\u001B[49m\u001B[43m)\u001B[49m\n",
      "File \u001B[1;32m~\\AppData\\Roaming\\Python\\Python312\\site-packages\\google\\api_core\\retry\\retry_unary.py:144\u001B[0m, in \u001B[0;36mretry_target\u001B[1;34m(target, predicate, sleep_generator, timeout, on_error, exception_factory, **kwargs)\u001B[0m\n\u001B[0;32m    142\u001B[0m \u001B[38;5;28;01mfor\u001B[39;00m sleep \u001B[38;5;129;01min\u001B[39;00m sleep_generator:\n\u001B[0;32m    143\u001B[0m     \u001B[38;5;28;01mtry\u001B[39;00m:\n\u001B[1;32m--> 144\u001B[0m         result \u001B[38;5;241m=\u001B[39m \u001B[43mtarget\u001B[49m\u001B[43m(\u001B[49m\u001B[43m)\u001B[49m\n\u001B[0;32m    145\u001B[0m         \u001B[38;5;28;01mif\u001B[39;00m inspect\u001B[38;5;241m.\u001B[39misawaitable(result):\n\u001B[0;32m    146\u001B[0m             warnings\u001B[38;5;241m.\u001B[39mwarn(_ASYNC_RETRY_WARNING)\n",
      "File \u001B[1;32m~\\AppData\\Roaming\\Python\\Python312\\site-packages\\google\\cloud\\_http\\__init__.py:482\u001B[0m, in \u001B[0;36mJSONConnection.api_request\u001B[1;34m(self, method, path, query_params, data, content_type, headers, api_base_url, api_version, expect_json, _target_object, timeout, extra_api_info)\u001B[0m\n\u001B[0;32m    479\u001B[0m     data \u001B[38;5;241m=\u001B[39m json\u001B[38;5;241m.\u001B[39mdumps(data)\n\u001B[0;32m    480\u001B[0m     content_type \u001B[38;5;241m=\u001B[39m \u001B[38;5;124m\"\u001B[39m\u001B[38;5;124mapplication/json\u001B[39m\u001B[38;5;124m\"\u001B[39m\n\u001B[1;32m--> 482\u001B[0m response \u001B[38;5;241m=\u001B[39m \u001B[38;5;28;43mself\u001B[39;49m\u001B[38;5;241;43m.\u001B[39;49m\u001B[43m_make_request\u001B[49m\u001B[43m(\u001B[49m\n\u001B[0;32m    483\u001B[0m \u001B[43m    \u001B[49m\u001B[43mmethod\u001B[49m\u001B[38;5;241;43m=\u001B[39;49m\u001B[43mmethod\u001B[49m\u001B[43m,\u001B[49m\n\u001B[0;32m    484\u001B[0m \u001B[43m    \u001B[49m\u001B[43murl\u001B[49m\u001B[38;5;241;43m=\u001B[39;49m\u001B[43murl\u001B[49m\u001B[43m,\u001B[49m\n\u001B[0;32m    485\u001B[0m \u001B[43m    \u001B[49m\u001B[43mdata\u001B[49m\u001B[38;5;241;43m=\u001B[39;49m\u001B[43mdata\u001B[49m\u001B[43m,\u001B[49m\n\u001B[0;32m    486\u001B[0m \u001B[43m    \u001B[49m\u001B[43mcontent_type\u001B[49m\u001B[38;5;241;43m=\u001B[39;49m\u001B[43mcontent_type\u001B[49m\u001B[43m,\u001B[49m\n\u001B[0;32m    487\u001B[0m \u001B[43m    \u001B[49m\u001B[43mheaders\u001B[49m\u001B[38;5;241;43m=\u001B[39;49m\u001B[43mheaders\u001B[49m\u001B[43m,\u001B[49m\n\u001B[0;32m    488\u001B[0m \u001B[43m    \u001B[49m\u001B[43mtarget_object\u001B[49m\u001B[38;5;241;43m=\u001B[39;49m\u001B[43m_target_object\u001B[49m\u001B[43m,\u001B[49m\n\u001B[0;32m    489\u001B[0m \u001B[43m    \u001B[49m\u001B[43mtimeout\u001B[49m\u001B[38;5;241;43m=\u001B[39;49m\u001B[43mtimeout\u001B[49m\u001B[43m,\u001B[49m\n\u001B[0;32m    490\u001B[0m \u001B[43m    \u001B[49m\u001B[43mextra_api_info\u001B[49m\u001B[38;5;241;43m=\u001B[39;49m\u001B[43mextra_api_info\u001B[49m\u001B[43m,\u001B[49m\n\u001B[0;32m    491\u001B[0m \u001B[43m\u001B[49m\u001B[43m)\u001B[49m\n\u001B[0;32m    493\u001B[0m \u001B[38;5;28;01mif\u001B[39;00m \u001B[38;5;129;01mnot\u001B[39;00m \u001B[38;5;241m200\u001B[39m \u001B[38;5;241m<\u001B[39m\u001B[38;5;241m=\u001B[39m response\u001B[38;5;241m.\u001B[39mstatus_code \u001B[38;5;241m<\u001B[39m \u001B[38;5;241m300\u001B[39m:\n\u001B[0;32m    494\u001B[0m     \u001B[38;5;28;01mraise\u001B[39;00m exceptions\u001B[38;5;241m.\u001B[39mfrom_http_response(response)\n",
      "File \u001B[1;32m~\\AppData\\Roaming\\Python\\Python312\\site-packages\\google\\cloud\\_http\\__init__.py:341\u001B[0m, in \u001B[0;36mJSONConnection._make_request\u001B[1;34m(self, method, url, data, content_type, headers, target_object, timeout, extra_api_info)\u001B[0m\n\u001B[0;32m    338\u001B[0m     headers[CLIENT_INFO_HEADER] \u001B[38;5;241m=\u001B[39m \u001B[38;5;28mself\u001B[39m\u001B[38;5;241m.\u001B[39muser_agent\n\u001B[0;32m    339\u001B[0m headers[\u001B[38;5;124m\"\u001B[39m\u001B[38;5;124mUser-Agent\u001B[39m\u001B[38;5;124m\"\u001B[39m] \u001B[38;5;241m=\u001B[39m \u001B[38;5;28mself\u001B[39m\u001B[38;5;241m.\u001B[39muser_agent\n\u001B[1;32m--> 341\u001B[0m \u001B[38;5;28;01mreturn\u001B[39;00m \u001B[38;5;28;43mself\u001B[39;49m\u001B[38;5;241;43m.\u001B[39;49m\u001B[43m_do_request\u001B[49m\u001B[43m(\u001B[49m\n\u001B[0;32m    342\u001B[0m \u001B[43m    \u001B[49m\u001B[43mmethod\u001B[49m\u001B[43m,\u001B[49m\u001B[43m \u001B[49m\u001B[43murl\u001B[49m\u001B[43m,\u001B[49m\u001B[43m \u001B[49m\u001B[43mheaders\u001B[49m\u001B[43m,\u001B[49m\u001B[43m \u001B[49m\u001B[43mdata\u001B[49m\u001B[43m,\u001B[49m\u001B[43m \u001B[49m\u001B[43mtarget_object\u001B[49m\u001B[43m,\u001B[49m\u001B[43m \u001B[49m\u001B[43mtimeout\u001B[49m\u001B[38;5;241;43m=\u001B[39;49m\u001B[43mtimeout\u001B[49m\n\u001B[0;32m    343\u001B[0m \u001B[43m\u001B[49m\u001B[43m)\u001B[49m\n",
      "File \u001B[1;32m~\\AppData\\Roaming\\Python\\Python312\\site-packages\\google\\cloud\\_http\\__init__.py:379\u001B[0m, in \u001B[0;36mJSONConnection._do_request\u001B[1;34m(self, method, url, headers, data, target_object, timeout)\u001B[0m\n\u001B[0;32m    345\u001B[0m \u001B[38;5;28;01mdef\u001B[39;00m \u001B[38;5;21m_do_request\u001B[39m(\n\u001B[0;32m    346\u001B[0m     \u001B[38;5;28mself\u001B[39m, method, url, headers, data, target_object, timeout\u001B[38;5;241m=\u001B[39m_DEFAULT_TIMEOUT\n\u001B[0;32m    347\u001B[0m ):  \u001B[38;5;66;03m# pylint: disable=unused-argument\u001B[39;00m\n\u001B[0;32m    348\u001B[0m \u001B[38;5;250m    \u001B[39m\u001B[38;5;124;03m\"\"\"Low-level helper:  perform the actual API request over HTTP.\u001B[39;00m\n\u001B[0;32m    349\u001B[0m \n\u001B[0;32m    350\u001B[0m \u001B[38;5;124;03m    Allows batch context managers to override and defer a request.\u001B[39;00m\n\u001B[1;32m   (...)\u001B[0m\n\u001B[0;32m    377\u001B[0m \u001B[38;5;124;03m    :returns: The HTTP response.\u001B[39;00m\n\u001B[0;32m    378\u001B[0m \u001B[38;5;124;03m    \"\"\"\u001B[39;00m\n\u001B[1;32m--> 379\u001B[0m     \u001B[38;5;28;01mreturn\u001B[39;00m \u001B[38;5;28;43mself\u001B[39;49m\u001B[38;5;241;43m.\u001B[39;49m\u001B[43mhttp\u001B[49m\u001B[38;5;241;43m.\u001B[39;49m\u001B[43mrequest\u001B[49m\u001B[43m(\u001B[49m\n\u001B[0;32m    380\u001B[0m \u001B[43m        \u001B[49m\u001B[43murl\u001B[49m\u001B[38;5;241;43m=\u001B[39;49m\u001B[43murl\u001B[49m\u001B[43m,\u001B[49m\u001B[43m \u001B[49m\u001B[43mmethod\u001B[49m\u001B[38;5;241;43m=\u001B[39;49m\u001B[43mmethod\u001B[49m\u001B[43m,\u001B[49m\u001B[43m \u001B[49m\u001B[43mheaders\u001B[49m\u001B[38;5;241;43m=\u001B[39;49m\u001B[43mheaders\u001B[49m\u001B[43m,\u001B[49m\u001B[43m \u001B[49m\u001B[43mdata\u001B[49m\u001B[38;5;241;43m=\u001B[39;49m\u001B[43mdata\u001B[49m\u001B[43m,\u001B[49m\u001B[43m \u001B[49m\u001B[43mtimeout\u001B[49m\u001B[38;5;241;43m=\u001B[39;49m\u001B[43mtimeout\u001B[49m\n\u001B[0;32m    381\u001B[0m \u001B[43m    \u001B[49m\u001B[43m)\u001B[49m\n",
      "File \u001B[1;32m~\\AppData\\Roaming\\Python\\Python312\\site-packages\\google\\auth\\transport\\requests.py:541\u001B[0m, in \u001B[0;36mAuthorizedSession.request\u001B[1;34m(self, method, url, data, headers, max_allowed_time, timeout, **kwargs)\u001B[0m\n\u001B[0;32m    538\u001B[0m remaining_time \u001B[38;5;241m=\u001B[39m guard\u001B[38;5;241m.\u001B[39mremaining_timeout\n\u001B[0;32m    540\u001B[0m \u001B[38;5;28;01mwith\u001B[39;00m TimeoutGuard(remaining_time) \u001B[38;5;28;01mas\u001B[39;00m guard:\n\u001B[1;32m--> 541\u001B[0m     response \u001B[38;5;241m=\u001B[39m \u001B[38;5;28;43msuper\u001B[39;49m\u001B[43m(\u001B[49m\u001B[43mAuthorizedSession\u001B[49m\u001B[43m,\u001B[49m\u001B[43m \u001B[49m\u001B[38;5;28;43mself\u001B[39;49m\u001B[43m)\u001B[49m\u001B[38;5;241;43m.\u001B[39;49m\u001B[43mrequest\u001B[49m\u001B[43m(\u001B[49m\n\u001B[0;32m    542\u001B[0m \u001B[43m        \u001B[49m\u001B[43mmethod\u001B[49m\u001B[43m,\u001B[49m\n\u001B[0;32m    543\u001B[0m \u001B[43m        \u001B[49m\u001B[43murl\u001B[49m\u001B[43m,\u001B[49m\n\u001B[0;32m    544\u001B[0m \u001B[43m        \u001B[49m\u001B[43mdata\u001B[49m\u001B[38;5;241;43m=\u001B[39;49m\u001B[43mdata\u001B[49m\u001B[43m,\u001B[49m\n\u001B[0;32m    545\u001B[0m \u001B[43m        \u001B[49m\u001B[43mheaders\u001B[49m\u001B[38;5;241;43m=\u001B[39;49m\u001B[43mrequest_headers\u001B[49m\u001B[43m,\u001B[49m\n\u001B[0;32m    546\u001B[0m \u001B[43m        \u001B[49m\u001B[43mtimeout\u001B[49m\u001B[38;5;241;43m=\u001B[39;49m\u001B[43mtimeout\u001B[49m\u001B[43m,\u001B[49m\n\u001B[0;32m    547\u001B[0m \u001B[43m        \u001B[49m\u001B[38;5;241;43m*\u001B[39;49m\u001B[38;5;241;43m*\u001B[39;49m\u001B[43mkwargs\u001B[49m\n\u001B[0;32m    548\u001B[0m \u001B[43m    \u001B[49m\u001B[43m)\u001B[49m\n\u001B[0;32m    549\u001B[0m remaining_time \u001B[38;5;241m=\u001B[39m guard\u001B[38;5;241m.\u001B[39mremaining_timeout\n\u001B[0;32m    551\u001B[0m \u001B[38;5;66;03m# If the response indicated that the credentials needed to be\u001B[39;00m\n\u001B[0;32m    552\u001B[0m \u001B[38;5;66;03m# refreshed, then refresh the credentials and re-attempt the\u001B[39;00m\n\u001B[0;32m    553\u001B[0m \u001B[38;5;66;03m# request.\u001B[39;00m\n\u001B[0;32m    554\u001B[0m \u001B[38;5;66;03m# A stored token may expire between the time it is retrieved and\u001B[39;00m\n\u001B[0;32m    555\u001B[0m \u001B[38;5;66;03m# the time the request is made, so we may need to try twice.\u001B[39;00m\n",
      "File \u001B[1;32m~\\AppData\\Roaming\\Python\\Python312\\site-packages\\requests\\sessions.py:589\u001B[0m, in \u001B[0;36mSession.request\u001B[1;34m(self, method, url, params, data, headers, cookies, files, auth, timeout, allow_redirects, proxies, hooks, stream, verify, cert, json)\u001B[0m\n\u001B[0;32m    584\u001B[0m send_kwargs \u001B[38;5;241m=\u001B[39m {\n\u001B[0;32m    585\u001B[0m     \u001B[38;5;124m\"\u001B[39m\u001B[38;5;124mtimeout\u001B[39m\u001B[38;5;124m\"\u001B[39m: timeout,\n\u001B[0;32m    586\u001B[0m     \u001B[38;5;124m\"\u001B[39m\u001B[38;5;124mallow_redirects\u001B[39m\u001B[38;5;124m\"\u001B[39m: allow_redirects,\n\u001B[0;32m    587\u001B[0m }\n\u001B[0;32m    588\u001B[0m send_kwargs\u001B[38;5;241m.\u001B[39mupdate(settings)\n\u001B[1;32m--> 589\u001B[0m resp \u001B[38;5;241m=\u001B[39m \u001B[38;5;28;43mself\u001B[39;49m\u001B[38;5;241;43m.\u001B[39;49m\u001B[43msend\u001B[49m\u001B[43m(\u001B[49m\u001B[43mprep\u001B[49m\u001B[43m,\u001B[49m\u001B[43m \u001B[49m\u001B[38;5;241;43m*\u001B[39;49m\u001B[38;5;241;43m*\u001B[39;49m\u001B[43msend_kwargs\u001B[49m\u001B[43m)\u001B[49m\n\u001B[0;32m    591\u001B[0m \u001B[38;5;28;01mreturn\u001B[39;00m resp\n",
      "File \u001B[1;32m~\\AppData\\Roaming\\Python\\Python312\\site-packages\\requests\\sessions.py:747\u001B[0m, in \u001B[0;36mSession.send\u001B[1;34m(self, request, **kwargs)\u001B[0m\n\u001B[0;32m    744\u001B[0m         \u001B[38;5;28;01mpass\u001B[39;00m\n\u001B[0;32m    746\u001B[0m \u001B[38;5;28;01mif\u001B[39;00m \u001B[38;5;129;01mnot\u001B[39;00m stream:\n\u001B[1;32m--> 747\u001B[0m     \u001B[43mr\u001B[49m\u001B[38;5;241;43m.\u001B[39;49m\u001B[43mcontent\u001B[49m\n\u001B[0;32m    749\u001B[0m \u001B[38;5;28;01mreturn\u001B[39;00m r\n",
      "File \u001B[1;32m~\\AppData\\Roaming\\Python\\Python312\\site-packages\\requests\\models.py:899\u001B[0m, in \u001B[0;36mResponse.content\u001B[1;34m(self)\u001B[0m\n\u001B[0;32m    897\u001B[0m         \u001B[38;5;28mself\u001B[39m\u001B[38;5;241m.\u001B[39m_content \u001B[38;5;241m=\u001B[39m \u001B[38;5;28;01mNone\u001B[39;00m\n\u001B[0;32m    898\u001B[0m     \u001B[38;5;28;01melse\u001B[39;00m:\n\u001B[1;32m--> 899\u001B[0m         \u001B[38;5;28mself\u001B[39m\u001B[38;5;241m.\u001B[39m_content \u001B[38;5;241m=\u001B[39m \u001B[38;5;124;43mb\u001B[39;49m\u001B[38;5;124;43m\"\u001B[39;49m\u001B[38;5;124;43m\"\u001B[39;49m\u001B[38;5;241;43m.\u001B[39;49m\u001B[43mjoin\u001B[49m\u001B[43m(\u001B[49m\u001B[38;5;28;43mself\u001B[39;49m\u001B[38;5;241;43m.\u001B[39;49m\u001B[43miter_content\u001B[49m\u001B[43m(\u001B[49m\u001B[43mCONTENT_CHUNK_SIZE\u001B[49m\u001B[43m)\u001B[49m\u001B[43m)\u001B[49m \u001B[38;5;129;01mor\u001B[39;00m \u001B[38;5;124mb\u001B[39m\u001B[38;5;124m\"\u001B[39m\u001B[38;5;124m\"\u001B[39m\n\u001B[0;32m    901\u001B[0m \u001B[38;5;28mself\u001B[39m\u001B[38;5;241m.\u001B[39m_content_consumed \u001B[38;5;241m=\u001B[39m \u001B[38;5;28;01mTrue\u001B[39;00m\n\u001B[0;32m    902\u001B[0m \u001B[38;5;66;03m# don't need to release the connection; that's been handled by urllib3\u001B[39;00m\n\u001B[0;32m    903\u001B[0m \u001B[38;5;66;03m# since we exhausted the data.\u001B[39;00m\n",
      "File \u001B[1;32m~\\AppData\\Roaming\\Python\\Python312\\site-packages\\requests\\models.py:816\u001B[0m, in \u001B[0;36mResponse.iter_content.<locals>.generate\u001B[1;34m()\u001B[0m\n\u001B[0;32m    814\u001B[0m \u001B[38;5;28;01mif\u001B[39;00m \u001B[38;5;28mhasattr\u001B[39m(\u001B[38;5;28mself\u001B[39m\u001B[38;5;241m.\u001B[39mraw, \u001B[38;5;124m\"\u001B[39m\u001B[38;5;124mstream\u001B[39m\u001B[38;5;124m\"\u001B[39m):\n\u001B[0;32m    815\u001B[0m     \u001B[38;5;28;01mtry\u001B[39;00m:\n\u001B[1;32m--> 816\u001B[0m         \u001B[38;5;28;01myield from\u001B[39;00m \u001B[38;5;28mself\u001B[39m\u001B[38;5;241m.\u001B[39mraw\u001B[38;5;241m.\u001B[39mstream(chunk_size, decode_content\u001B[38;5;241m=\u001B[39m\u001B[38;5;28;01mTrue\u001B[39;00m)\n\u001B[0;32m    817\u001B[0m     \u001B[38;5;28;01mexcept\u001B[39;00m ProtocolError \u001B[38;5;28;01mas\u001B[39;00m e:\n\u001B[0;32m    818\u001B[0m         \u001B[38;5;28;01mraise\u001B[39;00m ChunkedEncodingError(e)\n",
      "File \u001B[1;32m~\\AppData\\Roaming\\Python\\Python312\\site-packages\\urllib3\\response.py:1043\u001B[0m, in \u001B[0;36mHTTPResponse.stream\u001B[1;34m(self, amt, decode_content)\u001B[0m\n\u001B[0;32m   1041\u001B[0m \u001B[38;5;28;01melse\u001B[39;00m:\n\u001B[0;32m   1042\u001B[0m     \u001B[38;5;28;01mwhile\u001B[39;00m \u001B[38;5;129;01mnot\u001B[39;00m is_fp_closed(\u001B[38;5;28mself\u001B[39m\u001B[38;5;241m.\u001B[39m_fp) \u001B[38;5;129;01mor\u001B[39;00m \u001B[38;5;28mlen\u001B[39m(\u001B[38;5;28mself\u001B[39m\u001B[38;5;241m.\u001B[39m_decoded_buffer) \u001B[38;5;241m>\u001B[39m \u001B[38;5;241m0\u001B[39m:\n\u001B[1;32m-> 1043\u001B[0m         data \u001B[38;5;241m=\u001B[39m \u001B[38;5;28;43mself\u001B[39;49m\u001B[38;5;241;43m.\u001B[39;49m\u001B[43mread\u001B[49m\u001B[43m(\u001B[49m\u001B[43mamt\u001B[49m\u001B[38;5;241;43m=\u001B[39;49m\u001B[43mamt\u001B[49m\u001B[43m,\u001B[49m\u001B[43m \u001B[49m\u001B[43mdecode_content\u001B[49m\u001B[38;5;241;43m=\u001B[39;49m\u001B[43mdecode_content\u001B[49m\u001B[43m)\u001B[49m\n\u001B[0;32m   1045\u001B[0m         \u001B[38;5;28;01mif\u001B[39;00m data:\n\u001B[0;32m   1046\u001B[0m             \u001B[38;5;28;01myield\u001B[39;00m data\n",
      "File \u001B[1;32m~\\AppData\\Roaming\\Python\\Python312\\site-packages\\urllib3\\response.py:935\u001B[0m, in \u001B[0;36mHTTPResponse.read\u001B[1;34m(self, amt, decode_content, cache_content)\u001B[0m\n\u001B[0;32m    932\u001B[0m     \u001B[38;5;28;01mif\u001B[39;00m \u001B[38;5;28mlen\u001B[39m(\u001B[38;5;28mself\u001B[39m\u001B[38;5;241m.\u001B[39m_decoded_buffer) \u001B[38;5;241m>\u001B[39m\u001B[38;5;241m=\u001B[39m amt:\n\u001B[0;32m    933\u001B[0m         \u001B[38;5;28;01mreturn\u001B[39;00m \u001B[38;5;28mself\u001B[39m\u001B[38;5;241m.\u001B[39m_decoded_buffer\u001B[38;5;241m.\u001B[39mget(amt)\n\u001B[1;32m--> 935\u001B[0m data \u001B[38;5;241m=\u001B[39m \u001B[38;5;28;43mself\u001B[39;49m\u001B[38;5;241;43m.\u001B[39;49m\u001B[43m_raw_read\u001B[49m\u001B[43m(\u001B[49m\u001B[43mamt\u001B[49m\u001B[43m)\u001B[49m\n\u001B[0;32m    937\u001B[0m flush_decoder \u001B[38;5;241m=\u001B[39m amt \u001B[38;5;129;01mis\u001B[39;00m \u001B[38;5;28;01mNone\u001B[39;00m \u001B[38;5;129;01mor\u001B[39;00m (amt \u001B[38;5;241m!=\u001B[39m \u001B[38;5;241m0\u001B[39m \u001B[38;5;129;01mand\u001B[39;00m \u001B[38;5;129;01mnot\u001B[39;00m data)\n\u001B[0;32m    939\u001B[0m \u001B[38;5;28;01mif\u001B[39;00m \u001B[38;5;129;01mnot\u001B[39;00m data \u001B[38;5;129;01mand\u001B[39;00m \u001B[38;5;28mlen\u001B[39m(\u001B[38;5;28mself\u001B[39m\u001B[38;5;241m.\u001B[39m_decoded_buffer) \u001B[38;5;241m==\u001B[39m \u001B[38;5;241m0\u001B[39m:\n",
      "File \u001B[1;32m~\\AppData\\Roaming\\Python\\Python312\\site-packages\\urllib3\\response.py:862\u001B[0m, in \u001B[0;36mHTTPResponse._raw_read\u001B[1;34m(self, amt, read1)\u001B[0m\n\u001B[0;32m    859\u001B[0m fp_closed \u001B[38;5;241m=\u001B[39m \u001B[38;5;28mgetattr\u001B[39m(\u001B[38;5;28mself\u001B[39m\u001B[38;5;241m.\u001B[39m_fp, \u001B[38;5;124m\"\u001B[39m\u001B[38;5;124mclosed\u001B[39m\u001B[38;5;124m\"\u001B[39m, \u001B[38;5;28;01mFalse\u001B[39;00m)\n\u001B[0;32m    861\u001B[0m \u001B[38;5;28;01mwith\u001B[39;00m \u001B[38;5;28mself\u001B[39m\u001B[38;5;241m.\u001B[39m_error_catcher():\n\u001B[1;32m--> 862\u001B[0m     data \u001B[38;5;241m=\u001B[39m \u001B[38;5;28;43mself\u001B[39;49m\u001B[38;5;241;43m.\u001B[39;49m\u001B[43m_fp_read\u001B[49m\u001B[43m(\u001B[49m\u001B[43mamt\u001B[49m\u001B[43m,\u001B[49m\u001B[43m \u001B[49m\u001B[43mread1\u001B[49m\u001B[38;5;241;43m=\u001B[39;49m\u001B[43mread1\u001B[49m\u001B[43m)\u001B[49m \u001B[38;5;28;01mif\u001B[39;00m \u001B[38;5;129;01mnot\u001B[39;00m fp_closed \u001B[38;5;28;01melse\u001B[39;00m \u001B[38;5;124mb\u001B[39m\u001B[38;5;124m\"\u001B[39m\u001B[38;5;124m\"\u001B[39m\n\u001B[0;32m    863\u001B[0m     \u001B[38;5;28;01mif\u001B[39;00m amt \u001B[38;5;129;01mis\u001B[39;00m \u001B[38;5;129;01mnot\u001B[39;00m \u001B[38;5;28;01mNone\u001B[39;00m \u001B[38;5;129;01mand\u001B[39;00m amt \u001B[38;5;241m!=\u001B[39m \u001B[38;5;241m0\u001B[39m \u001B[38;5;129;01mand\u001B[39;00m \u001B[38;5;129;01mnot\u001B[39;00m data:\n\u001B[0;32m    864\u001B[0m         \u001B[38;5;66;03m# Platform-specific: Buggy versions of Python.\u001B[39;00m\n\u001B[0;32m    865\u001B[0m         \u001B[38;5;66;03m# Close the connection when no data is returned\u001B[39;00m\n\u001B[1;32m   (...)\u001B[0m\n\u001B[0;32m    870\u001B[0m         \u001B[38;5;66;03m# not properly close the connection in all cases. There is\u001B[39;00m\n\u001B[0;32m    871\u001B[0m         \u001B[38;5;66;03m# no harm in redundantly calling close.\u001B[39;00m\n\u001B[0;32m    872\u001B[0m         \u001B[38;5;28mself\u001B[39m\u001B[38;5;241m.\u001B[39m_fp\u001B[38;5;241m.\u001B[39mclose()\n",
      "File \u001B[1;32m~\\AppData\\Roaming\\Python\\Python312\\site-packages\\urllib3\\response.py:845\u001B[0m, in \u001B[0;36mHTTPResponse._fp_read\u001B[1;34m(self, amt, read1)\u001B[0m\n\u001B[0;32m    842\u001B[0m     \u001B[38;5;28;01mreturn\u001B[39;00m \u001B[38;5;28mself\u001B[39m\u001B[38;5;241m.\u001B[39m_fp\u001B[38;5;241m.\u001B[39mread1(amt) \u001B[38;5;28;01mif\u001B[39;00m amt \u001B[38;5;129;01mis\u001B[39;00m \u001B[38;5;129;01mnot\u001B[39;00m \u001B[38;5;28;01mNone\u001B[39;00m \u001B[38;5;28;01melse\u001B[39;00m \u001B[38;5;28mself\u001B[39m\u001B[38;5;241m.\u001B[39m_fp\u001B[38;5;241m.\u001B[39mread1()\n\u001B[0;32m    843\u001B[0m \u001B[38;5;28;01melse\u001B[39;00m:\n\u001B[0;32m    844\u001B[0m     \u001B[38;5;66;03m# StringIO doesn't like amt=None\u001B[39;00m\n\u001B[1;32m--> 845\u001B[0m     \u001B[38;5;28;01mreturn\u001B[39;00m \u001B[38;5;28;43mself\u001B[39;49m\u001B[38;5;241;43m.\u001B[39;49m\u001B[43m_fp\u001B[49m\u001B[38;5;241;43m.\u001B[39;49m\u001B[43mread\u001B[49m\u001B[43m(\u001B[49m\u001B[43mamt\u001B[49m\u001B[43m)\u001B[49m \u001B[38;5;28;01mif\u001B[39;00m amt \u001B[38;5;129;01mis\u001B[39;00m \u001B[38;5;129;01mnot\u001B[39;00m \u001B[38;5;28;01mNone\u001B[39;00m \u001B[38;5;28;01melse\u001B[39;00m \u001B[38;5;28mself\u001B[39m\u001B[38;5;241m.\u001B[39m_fp\u001B[38;5;241m.\u001B[39mread()\n",
      "File \u001B[1;32mC:\\Program Files (x86)\\python-3.12.3\\Lib\\http\\client.py:479\u001B[0m, in \u001B[0;36mHTTPResponse.read\u001B[1;34m(self, amt)\u001B[0m\n\u001B[0;32m    476\u001B[0m \u001B[38;5;28;01mif\u001B[39;00m \u001B[38;5;28mself\u001B[39m\u001B[38;5;241m.\u001B[39mlength \u001B[38;5;129;01mis\u001B[39;00m \u001B[38;5;129;01mnot\u001B[39;00m \u001B[38;5;28;01mNone\u001B[39;00m \u001B[38;5;129;01mand\u001B[39;00m amt \u001B[38;5;241m>\u001B[39m \u001B[38;5;28mself\u001B[39m\u001B[38;5;241m.\u001B[39mlength:\n\u001B[0;32m    477\u001B[0m     \u001B[38;5;66;03m# clip the read to the \"end of response\"\u001B[39;00m\n\u001B[0;32m    478\u001B[0m     amt \u001B[38;5;241m=\u001B[39m \u001B[38;5;28mself\u001B[39m\u001B[38;5;241m.\u001B[39mlength\n\u001B[1;32m--> 479\u001B[0m s \u001B[38;5;241m=\u001B[39m \u001B[38;5;28;43mself\u001B[39;49m\u001B[38;5;241;43m.\u001B[39;49m\u001B[43mfp\u001B[49m\u001B[38;5;241;43m.\u001B[39;49m\u001B[43mread\u001B[49m\u001B[43m(\u001B[49m\u001B[43mamt\u001B[49m\u001B[43m)\u001B[49m\n\u001B[0;32m    480\u001B[0m \u001B[38;5;28;01mif\u001B[39;00m \u001B[38;5;129;01mnot\u001B[39;00m s \u001B[38;5;129;01mand\u001B[39;00m amt:\n\u001B[0;32m    481\u001B[0m     \u001B[38;5;66;03m# Ideally, we would raise IncompleteRead if the content-length\u001B[39;00m\n\u001B[0;32m    482\u001B[0m     \u001B[38;5;66;03m# wasn't satisfied, but it might break compatibility.\u001B[39;00m\n\u001B[0;32m    483\u001B[0m     \u001B[38;5;28mself\u001B[39m\u001B[38;5;241m.\u001B[39m_close_conn()\n",
      "File \u001B[1;32mC:\\Program Files (x86)\\python-3.12.3\\Lib\\socket.py:707\u001B[0m, in \u001B[0;36mSocketIO.readinto\u001B[1;34m(self, b)\u001B[0m\n\u001B[0;32m    705\u001B[0m \u001B[38;5;28;01mwhile\u001B[39;00m \u001B[38;5;28;01mTrue\u001B[39;00m:\n\u001B[0;32m    706\u001B[0m     \u001B[38;5;28;01mtry\u001B[39;00m:\n\u001B[1;32m--> 707\u001B[0m         \u001B[38;5;28;01mreturn\u001B[39;00m \u001B[38;5;28;43mself\u001B[39;49m\u001B[38;5;241;43m.\u001B[39;49m\u001B[43m_sock\u001B[49m\u001B[38;5;241;43m.\u001B[39;49m\u001B[43mrecv_into\u001B[49m\u001B[43m(\u001B[49m\u001B[43mb\u001B[49m\u001B[43m)\u001B[49m\n\u001B[0;32m    708\u001B[0m     \u001B[38;5;28;01mexcept\u001B[39;00m timeout:\n\u001B[0;32m    709\u001B[0m         \u001B[38;5;28mself\u001B[39m\u001B[38;5;241m.\u001B[39m_timeout_occurred \u001B[38;5;241m=\u001B[39m \u001B[38;5;28;01mTrue\u001B[39;00m\n",
      "File \u001B[1;32mC:\\Program Files (x86)\\python-3.12.3\\Lib\\ssl.py:1252\u001B[0m, in \u001B[0;36mSSLSocket.recv_into\u001B[1;34m(self, buffer, nbytes, flags)\u001B[0m\n\u001B[0;32m   1248\u001B[0m     \u001B[38;5;28;01mif\u001B[39;00m flags \u001B[38;5;241m!=\u001B[39m \u001B[38;5;241m0\u001B[39m:\n\u001B[0;32m   1249\u001B[0m         \u001B[38;5;28;01mraise\u001B[39;00m \u001B[38;5;167;01mValueError\u001B[39;00m(\n\u001B[0;32m   1250\u001B[0m           \u001B[38;5;124m\"\u001B[39m\u001B[38;5;124mnon-zero flags not allowed in calls to recv_into() on \u001B[39m\u001B[38;5;132;01m%s\u001B[39;00m\u001B[38;5;124m\"\u001B[39m \u001B[38;5;241m%\u001B[39m\n\u001B[0;32m   1251\u001B[0m           \u001B[38;5;28mself\u001B[39m\u001B[38;5;241m.\u001B[39m\u001B[38;5;18m__class__\u001B[39m)\n\u001B[1;32m-> 1252\u001B[0m     \u001B[38;5;28;01mreturn\u001B[39;00m \u001B[38;5;28;43mself\u001B[39;49m\u001B[38;5;241;43m.\u001B[39;49m\u001B[43mread\u001B[49m\u001B[43m(\u001B[49m\u001B[43mnbytes\u001B[49m\u001B[43m,\u001B[49m\u001B[43m \u001B[49m\u001B[43mbuffer\u001B[49m\u001B[43m)\u001B[49m\n\u001B[0;32m   1253\u001B[0m \u001B[38;5;28;01melse\u001B[39;00m:\n\u001B[0;32m   1254\u001B[0m     \u001B[38;5;28;01mreturn\u001B[39;00m \u001B[38;5;28msuper\u001B[39m()\u001B[38;5;241m.\u001B[39mrecv_into(buffer, nbytes, flags)\n",
      "File \u001B[1;32mC:\\Program Files (x86)\\python-3.12.3\\Lib\\ssl.py:1104\u001B[0m, in \u001B[0;36mSSLSocket.read\u001B[1;34m(self, len, buffer)\u001B[0m\n\u001B[0;32m   1102\u001B[0m \u001B[38;5;28;01mtry\u001B[39;00m:\n\u001B[0;32m   1103\u001B[0m     \u001B[38;5;28;01mif\u001B[39;00m buffer \u001B[38;5;129;01mis\u001B[39;00m \u001B[38;5;129;01mnot\u001B[39;00m \u001B[38;5;28;01mNone\u001B[39;00m:\n\u001B[1;32m-> 1104\u001B[0m         \u001B[38;5;28;01mreturn\u001B[39;00m \u001B[38;5;28;43mself\u001B[39;49m\u001B[38;5;241;43m.\u001B[39;49m\u001B[43m_sslobj\u001B[49m\u001B[38;5;241;43m.\u001B[39;49m\u001B[43mread\u001B[49m\u001B[43m(\u001B[49m\u001B[38;5;28;43mlen\u001B[39;49m\u001B[43m,\u001B[49m\u001B[43m \u001B[49m\u001B[43mbuffer\u001B[49m\u001B[43m)\u001B[49m\n\u001B[0;32m   1105\u001B[0m     \u001B[38;5;28;01melse\u001B[39;00m:\n\u001B[0;32m   1106\u001B[0m         \u001B[38;5;28;01mreturn\u001B[39;00m \u001B[38;5;28mself\u001B[39m\u001B[38;5;241m.\u001B[39m_sslobj\u001B[38;5;241m.\u001B[39mread(\u001B[38;5;28mlen\u001B[39m)\n",
      "\u001B[1;31mKeyboardInterrupt\u001B[0m: "
     ]
    }
   ],
   "source": [
    "# Mendapatkan nama folder yang ada di Google Cloud Storage\n",
    "folder_names = get_folder_names()\n",
    "\n",
    "# Membuat folder di dalam folder normalized_sensor_data\n",
    "for folder_name in folder_names:\n",
    "    create_folder_in_gcs(bucket, f\"normalized_sensor_data/{folder_name}\")\n",
    "    \n",
    "# Daftar nama tugas\n",
    "tasks = ['T01', 'T06', 'T20', 'T21', 'T22']\n",
    "\n",
    "# Mendapatkan daftar data dari Google Cloud Storage\n",
    "tasks_data = get_list_data(bucket, tasks)\n",
    "\n",
    "# Normalisasi dan mengunggah setiap file\n",
    "for task_name, task_data in tasks_data.items():\n",
    "    print(f'Task {task_name}: {len(task_data)} files')\n",
    "    for blob in task_data:\n",
    "        normalize_and_upload(blob)\n",
    "    print(\"\")"
   ],
   "metadata": {
    "collapsed": false,
    "ExecuteTime": {
     "end_time": "2024-06-10T01:40:18.184892Z",
     "start_time": "2024-06-10T01:40:05.436275Z"
    }
   },
   "id": "923ed7b68f4710eb",
   "execution_count": 10
  },
  {
   "cell_type": "code",
   "outputs": [
    {
     "name": "stdout",
     "output_type": "stream",
     "text": [
      "Task 01: 32\n",
      "Task 06: 151\n",
      "Task 20: 159\n",
      "Task 21: 161\n",
      "Task 22: 161\n"
     ]
    }
   ],
   "source": [
    "def list_data_dir():\n",
    "    # List semua blob (file) dalam bucket\n",
    "    all_data = list(bucket.list_blobs(prefix=\"normalized_sensor_data/\"))\n",
    "\n",
    "    # Inisialisasi dictionary untuk menyimpan jumlah file untuk setiap tugas\n",
    "    tasks_amount = {'T01': 0, 'T06': 0, 'T20': 0, 'T21': 0, 'T22': 0}\n",
    "    \n",
    "    task_blobs = {'T01': [], 'T06': [], 'T20': [], 'T21': [], 'T22': []}\n",
    "\n",
    "    # Iterasi melalui setiap blob dan hitung jumlah file untuk setiap tugas\n",
    "    for blob in all_data:\n",
    "        for task in tasks_amount.keys():\n",
    "            if task in blob.name:\n",
    "                tasks_amount[task] += 1\n",
    "                task_blobs[task].append(blob)\n",
    "\n",
    "    return task_blobs, tasks_amount\n",
    "\n",
    "task_dir, task_amount = list_data_dir()\n",
    "print(f'Task 01: {task_amount[\"T01\"]}')\n",
    "print(f'Task 06: {task_amount[\"T06\"]}')\n",
    "print(f'Task 20: {task_amount[\"T20\"]}')\n",
    "print(f'Task 21: {task_amount[\"T21\"]}')\n",
    "print(f'Task 22: {task_amount[\"T22\"]}')\n"
   ],
   "metadata": {
    "collapsed": false,
    "ExecuteTime": {
     "end_time": "2024-06-10T01:40:23.961704Z",
     "start_time": "2024-06-10T01:40:20.837196Z"
    }
   },
   "id": "324be5fae1c04b5",
   "execution_count": 11
  },
  {
   "cell_type": "code",
   "outputs": [
    {
     "name": "stdout",
     "output_type": "stream",
     "text": [
      "Average number of rows: 719.9627329192547\n"
     ]
    }
   ],
   "source": [
    "length = []\n",
    "\n",
    "for blob in task_dir['T22']:\n",
    "    # Unduh konten dari objek Blob\n",
    "    blob_content = blob.download_as_string()\n",
    "\n",
    "    # Baca konten CSV dari objek buffer\n",
    "    data = pd.read_csv(io.BytesIO(blob_content))\n",
    "\n",
    "    # Tambahkan jumlah baris ke dalam daftar length\n",
    "    length.append(data.shape[0])\n",
    "\n",
    "# Hitung rata-rata jumlah baris\n",
    "average_length = np.mean(np.array(length))\n",
    "print(\"Average number of rows:\", average_length)"
   ],
   "metadata": {
    "collapsed": false,
    "ExecuteTime": {
     "end_time": "2024-06-10T01:41:09.752955Z",
     "start_time": "2024-06-10T01:40:26.128816Z"
    }
   },
   "id": "3fdefe7a2758a380",
   "execution_count": 12
  },
  {
   "cell_type": "code",
   "outputs": [],
   "source": [
    "task_01 = task_dir[\"T01\"]\n",
    "task_06 = task_dir[\"T06\"]\n",
    "task_20 = task_dir[\"T20\"]\n",
    "task_21 = task_dir[\"T21\"]\n",
    "task_22 = task_dir[\"T22\"]"
   ],
   "metadata": {
    "collapsed": false,
    "ExecuteTime": {
     "end_time": "2024-06-10T01:49:58.572373Z",
     "start_time": "2024-06-10T01:49:58.506615Z"
    }
   },
   "id": "22e4089170d4af82",
   "execution_count": 20
  },
  {
   "cell_type": "code",
   "outputs": [
    {
     "name": "stdout",
     "output_type": "stream",
     "text": [
      "[<Blob: fall-detection-bucket, normalized_sensor_data/SA06/normalized_S06T01R01.csv, 1717898465636295>, <Blob: fall-detection-bucket, normalized_sensor_data/SA07/normalized_S07T01R01.csv, 1717898467234048>, <Blob: fall-detection-bucket, normalized_sensor_data/SA08/normalized_S08T01R01.csv, 1717898468688117>, <Blob: fall-detection-bucket, normalized_sensor_data/SA09/normalized_S09T01R01.csv, 1717898470138932>, <Blob: fall-detection-bucket, normalized_sensor_data/SA10/normalized_S10T01R01.csv, 1717898471623768>, <Blob: fall-detection-bucket, normalized_sensor_data/SA11/normalized_S11T01R01.csv, 1717898472662079>, <Blob: fall-detection-bucket, normalized_sensor_data/SA12/normalized_S12T01R01.csv, 1717898474099214>, <Blob: fall-detection-bucket, normalized_sensor_data/SA13/normalized_S13T01R01.csv, 1717898475528893>, <Blob: fall-detection-bucket, normalized_sensor_data/SA14/normalized_S14T01R01.csv, 1717898477091719>, <Blob: fall-detection-bucket, normalized_sensor_data/SA15/normalized_S15T01R01.csv, 1717898478755982>, <Blob: fall-detection-bucket, normalized_sensor_data/SA16/normalized_S16T01R01.csv, 1717898480297597>, <Blob: fall-detection-bucket, normalized_sensor_data/SA17/normalized_S17T01R01.csv, 1717898481600275>, <Blob: fall-detection-bucket, normalized_sensor_data/SA18/normalized_S18T01R01.csv, 1717898483188281>, <Blob: fall-detection-bucket, normalized_sensor_data/SA19/normalized_S19T01R01.csv, 1717898484105475>, <Blob: fall-detection-bucket, normalized_sensor_data/SA20/normalized_S20T01R01.csv, 1717898485409866>, <Blob: fall-detection-bucket, normalized_sensor_data/SA21/normalized_S21T01R01.csv, 1717898487184627>, <Blob: fall-detection-bucket, normalized_sensor_data/SA22/normalized_S22T01R01.csv, 1717898488805267>, <Blob: fall-detection-bucket, normalized_sensor_data/SA23/normalized_S23T01R01.csv, 1717898490409112>, <Blob: fall-detection-bucket, normalized_sensor_data/SA24/normalized_S24T01R01.csv, 1717898491959502>, <Blob: fall-detection-bucket, normalized_sensor_data/SA25/normalized_S25T01R01.csv, 1717898493671406>, <Blob: fall-detection-bucket, normalized_sensor_data/SA26/normalized_S26T01R01.csv, 1717898495173710>, <Blob: fall-detection-bucket, normalized_sensor_data/SA27/normalized_S27T01R01.csv, 1717898496902189>, <Blob: fall-detection-bucket, normalized_sensor_data/SA28/normalized_S28T01R01.csv, 1717898498551947>, <Blob: fall-detection-bucket, normalized_sensor_data/SA29/normalized_S29T01R01.csv, 1717898500173768>, <Blob: fall-detection-bucket, normalized_sensor_data/SA30/normalized_S30T01R01.csv, 1717898501888158>, <Blob: fall-detection-bucket, normalized_sensor_data/SA31/normalized_S31T01R01.csv, 1717898503445850>, <Blob: fall-detection-bucket, normalized_sensor_data/SA32/normalized_S32T01R01.csv, 1717898505081400>, <Blob: fall-detection-bucket, normalized_sensor_data/SA33/normalized_S33T01R01.csv, 1717898506501907>, <Blob: fall-detection-bucket, normalized_sensor_data/SA35/normalized_S35T01R01.csv, 1717898507906549>, <Blob: fall-detection-bucket, normalized_sensor_data/SA36/normalized_S36T01R01.csv, 1717898508789423>, <Blob: fall-detection-bucket, normalized_sensor_data/SA37/normalized_S37T01R01.csv, 1717898510093172>, <Blob: fall-detection-bucket, normalized_sensor_data/SA38/normalized_S38T01R01.csv, 1717898511760195>]\n"
     ]
    }
   ],
   "source": [
    "print(task_01)"
   ],
   "metadata": {
    "collapsed": false,
    "ExecuteTime": {
     "end_time": "2024-06-10T01:50:00.937374Z",
     "start_time": "2024-06-10T01:50:00.894846Z"
    }
   },
   "id": "7215d86ff3a3cc67",
   "execution_count": 21
  },
  {
   "cell_type": "code",
   "outputs": [],
   "source": [
    "def group_tasks(task_blobs, task_name):\n",
    "    all_data = []\n",
    "    for blob in task_blobs:\n",
    "        # Unduh konten dari objek Blob sebagai string\n",
    "        blob_content = blob.download_as_string()\n",
    "\n",
    "        # Baca konten CSV dari objek buffer\n",
    "        df = pd.read_csv(io.BytesIO(blob_content))\n",
    "\n",
    "        # Buang kolom yang tidak diperlukan\n",
    "        drop_cols = ['TimeStamp(s)', 'FrameCounter', 'EulerX', 'EulerY', 'EulerZ']\n",
    "        df.drop(columns=drop_cols, inplace=True)\n",
    "\n",
    "        # Ubah DataFrame menjadi numpy array dan tambahkan ke dalam list all_data\n",
    "        all_data.append(df.to_numpy())\n",
    "\n",
    "    # Buat folder alldata jika belum ada\n",
    "    if not os.path.exists('../../assets/pkl/update'):\n",
    "        os.makedirs('../../assets/pkl/update')\n",
    "\n",
    "    # Simpan list all_data ke dalam file .pkl\n",
    "    joblib.dump(all_data, f'../../assets/pkl/update/{task_name}.pkl')\n",
    "\n",
    "    print('Done!')"
   ],
   "metadata": {
    "collapsed": false,
    "ExecuteTime": {
     "end_time": "2024-06-10T01:50:02.102826Z",
     "start_time": "2024-06-10T01:50:02.091607Z"
    }
   },
   "id": "2d35e8e18ae9dbe9",
   "execution_count": 22
  },
  {
   "cell_type": "code",
   "outputs": [
    {
     "name": "stdout",
     "output_type": "stream",
     "text": [
      "Done!\n",
      "Done!\n",
      "Done!\n",
      "Done!\n",
      "Done!\n"
     ]
    }
   ],
   "source": [
    "group_tasks(task_01, 'task_01')\n",
    "group_tasks(task_06, 'task_06')\n",
    "group_tasks(task_20, 'task_20')\n",
    "group_tasks(task_21, 'task_21')\n",
    "group_tasks(task_22, 'task_22')"
   ],
   "metadata": {
    "collapsed": false,
    "ExecuteTime": {
     "end_time": "2024-06-10T01:53:37.238819Z",
     "start_time": "2024-06-10T01:50:14.247265Z"
    }
   },
   "id": "1ed991180ceb4675",
   "execution_count": 23
  }
 ],
 "metadata": {
  "kernelspec": {
   "display_name": "Python 3",
   "language": "python",
   "name": "python3"
  },
  "language_info": {
   "codemirror_mode": {
    "name": "ipython",
    "version": 2
   },
   "file_extension": ".py",
   "mimetype": "text/x-python",
   "name": "python",
   "nbconvert_exporter": "python",
   "pygments_lexer": "ipython2",
   "version": "2.7.6"
  }
 },
 "nbformat": 4,
 "nbformat_minor": 5
}
